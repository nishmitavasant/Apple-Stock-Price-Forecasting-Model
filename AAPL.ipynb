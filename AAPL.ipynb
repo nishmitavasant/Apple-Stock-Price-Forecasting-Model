{
 "cells": [
  {
   "cell_type": "code",
   "execution_count": 50,
   "id": "ce8da42b",
   "metadata": {},
   "outputs": [],
   "source": [
    "import matplotlib.pyplot as plt\n",
    "import numpy as np\n",
    "import tensorflow as tf"
   ]
  },
  {
   "cell_type": "code",
   "execution_count": 58,
   "id": "60d26a4b",
   "metadata": {},
   "outputs": [],
   "source": [
    "import seaborn as sns"
   ]
  },
  {
   "cell_type": "markdown",
   "id": "57d85d1c",
   "metadata": {},
   "source": [
    "Loading data from the API, separated the csv file to 4 separate files since Github is not able to store large files"
   ]
  },
  {
   "cell_type": "code",
   "execution_count": 51,
   "id": "d79ad739",
   "metadata": {},
   "outputs": [],
   "source": [
    "import pandas as pd\n",
    "df1 = pd.read_csv('https://raw.githubusercontent.com/Zaanis/AAPL-Predictor/main/AAPLFINAL1.csv')\n",
    "df2 = pd.read_csv('https://raw.githubusercontent.com/Zaanis/AAPL-Predictor/main/AAPLFINAL2.csv')\n",
    "df3 = pd.read_csv('https://raw.githubusercontent.com/Zaanis/AAPL-Predictor/main/AAPLFINAL3.csv')\n",
    "df4 = pd.read_csv('https://raw.githubusercontent.com/Zaanis/AAPL-Predictor/main/AAPLFINAL4.csv')"
   ]
  },
  {
   "cell_type": "markdown",
   "id": "e453cbf5",
   "metadata": {},
   "source": [
    "### Loading Data"
   ]
  },
  {
   "cell_type": "markdown",
   "id": "541902a5",
   "metadata": {},
   "source": [
    "Combining the data together"
   ]
  },
  {
   "cell_type": "code",
   "execution_count": 3,
   "id": "762d12a1",
   "metadata": {},
   "outputs": [],
   "source": [
    "df = pd.concat([df1, df2, df3, df4])"
   ]
  },
  {
   "cell_type": "markdown",
   "id": "552ba74c",
   "metadata": {},
   "source": [
    "Getting timestamp to datatime and extract the hour"
   ]
  },
  {
   "cell_type": "code",
   "execution_count": 4,
   "id": "6a96d94a",
   "metadata": {},
   "outputs": [],
   "source": [
    "df['TIMESTAMP'] = pd.to_datetime(df['TIMESTAMP'])"
   ]
  },
  {
   "cell_type": "code",
   "execution_count": 5,
   "id": "737f788e",
   "metadata": {},
   "outputs": [],
   "source": [
    "df['Hour'] = df['TIMESTAMP'].dt.hour\n"
   ]
  },
  {
   "cell_type": "markdown",
   "id": "dfb9f8ac",
   "metadata": {},
   "source": [
    "Checking null values"
   ]
  },
  {
   "cell_type": "code",
   "execution_count": 6,
   "id": "14350471",
   "metadata": {},
   "outputs": [
    {
     "data": {
      "text/plain": [
       "Unnamed: 0        0\n",
       "TIMESTAMP         0\n",
       "ROWNUM            0\n",
       "OPEN              0\n",
       "HIGH              0\n",
       "LOW               0\n",
       "CLOSE             0\n",
       "VOLUME            0\n",
       "RSI             342\n",
       "MONTH             0\n",
       "DOW               0\n",
       "CHANGE            0\n",
       "MOVEMENT          0\n",
       "MACD           1849\n",
       "MACD_HIST      1849\n",
       "MACD_SIGNAL    1849\n",
       "MA50           4312\n",
       "MA5              10\n",
       "VWAP              0\n",
       "TARGET1           1\n",
       "Hour              0\n",
       "dtype: int64"
      ]
     },
     "execution_count": 6,
     "metadata": {},
     "output_type": "execute_result"
    }
   ],
   "source": [
    "df.isna().sum()"
   ]
  },
  {
   "cell_type": "markdown",
   "id": "ef2abda3",
   "metadata": {},
   "source": [
    "Maximum of 4400 null values in MA50, which is only 1% of the data, will simply drop any rows with a missing value"
   ]
  },
  {
   "cell_type": "code",
   "execution_count": 7,
   "id": "a661cfb3",
   "metadata": {},
   "outputs": [],
   "source": [
    "df = df.dropna()"
   ]
  },
  {
   "cell_type": "markdown",
   "id": "4232e781",
   "metadata": {},
   "source": [
    "Dropping columns not needed"
   ]
  },
  {
   "cell_type": "code",
   "execution_count": 51,
   "id": "ebc56369",
   "metadata": {},
   "outputs": [],
   "source": [
    "df = df.drop(columns = ['Unnamed: 0', 'ROWNUM', 'TIMESTAMP', 'TARGET1', 'MOVEMENT'])"
   ]
  },
  {
   "cell_type": "code",
   "execution_count": 52,
   "id": "356f9503",
   "metadata": {},
   "outputs": [
    {
     "data": {
      "text/html": [
       "<div>\n",
       "<style scoped>\n",
       "    .dataframe tbody tr th:only-of-type {\n",
       "        vertical-align: middle;\n",
       "    }\n",
       "\n",
       "    .dataframe tbody tr th {\n",
       "        vertical-align: top;\n",
       "    }\n",
       "\n",
       "    .dataframe thead th {\n",
       "        text-align: right;\n",
       "    }\n",
       "</style>\n",
       "<table border=\"1\" class=\"dataframe\">\n",
       "  <thead>\n",
       "    <tr style=\"text-align: right;\">\n",
       "      <th></th>\n",
       "      <th>OPEN</th>\n",
       "      <th>HIGH</th>\n",
       "      <th>LOW</th>\n",
       "      <th>CLOSE</th>\n",
       "      <th>VOLUME</th>\n",
       "      <th>RSI</th>\n",
       "      <th>MONTH</th>\n",
       "      <th>DOW</th>\n",
       "      <th>CHANGE</th>\n",
       "      <th>MACD</th>\n",
       "      <th>MACD_HIST</th>\n",
       "      <th>MACD_SIGNAL</th>\n",
       "      <th>MA50</th>\n",
       "      <th>MA5</th>\n",
       "      <th>VWAP</th>\n",
       "      <th>Hour</th>\n",
       "    </tr>\n",
       "  </thead>\n",
       "  <tbody>\n",
       "    <tr>\n",
       "      <th>43</th>\n",
       "      <td>0.226</td>\n",
       "      <td>0.230</td>\n",
       "      <td>0.226</td>\n",
       "      <td>0.229</td>\n",
       "      <td>17214400</td>\n",
       "      <td>55.5547</td>\n",
       "      <td>1</td>\n",
       "      <td>2</td>\n",
       "      <td>-0.003</td>\n",
       "      <td>0.0002</td>\n",
       "      <td>0.0001</td>\n",
       "      <td>0.0001</td>\n",
       "      <td>0.2252</td>\n",
       "      <td>0.2258</td>\n",
       "      <td>0.2251</td>\n",
       "      <td>13</td>\n",
       "    </tr>\n",
       "    <tr>\n",
       "      <th>44</th>\n",
       "      <td>0.229</td>\n",
       "      <td>0.230</td>\n",
       "      <td>0.228</td>\n",
       "      <td>0.229</td>\n",
       "      <td>9469600</td>\n",
       "      <td>71.0531</td>\n",
       "      <td>1</td>\n",
       "      <td>2</td>\n",
       "      <td>0.000</td>\n",
       "      <td>0.0004</td>\n",
       "      <td>0.0003</td>\n",
       "      <td>0.0001</td>\n",
       "      <td>0.2253</td>\n",
       "      <td>0.2264</td>\n",
       "      <td>0.2253</td>\n",
       "      <td>13</td>\n",
       "    </tr>\n",
       "    <tr>\n",
       "      <th>45</th>\n",
       "      <td>0.228</td>\n",
       "      <td>0.230</td>\n",
       "      <td>0.228</td>\n",
       "      <td>0.228</td>\n",
       "      <td>1696800</td>\n",
       "      <td>63.1484</td>\n",
       "      <td>1</td>\n",
       "      <td>2</td>\n",
       "      <td>0.000</td>\n",
       "      <td>0.0006</td>\n",
       "      <td>0.0003</td>\n",
       "      <td>0.0002</td>\n",
       "      <td>0.2253</td>\n",
       "      <td>0.2270</td>\n",
       "      <td>0.2253</td>\n",
       "      <td>13</td>\n",
       "    </tr>\n",
       "    <tr>\n",
       "      <th>46</th>\n",
       "      <td>0.228</td>\n",
       "      <td>0.230</td>\n",
       "      <td>0.225</td>\n",
       "      <td>0.226</td>\n",
       "      <td>14744800</td>\n",
       "      <td>63.1484</td>\n",
       "      <td>1</td>\n",
       "      <td>2</td>\n",
       "      <td>0.002</td>\n",
       "      <td>0.0006</td>\n",
       "      <td>0.0003</td>\n",
       "      <td>0.0003</td>\n",
       "      <td>0.2254</td>\n",
       "      <td>0.2274</td>\n",
       "      <td>0.2254</td>\n",
       "      <td>13</td>\n",
       "    </tr>\n",
       "    <tr>\n",
       "      <th>47</th>\n",
       "      <td>0.227</td>\n",
       "      <td>0.229</td>\n",
       "      <td>0.226</td>\n",
       "      <td>0.227</td>\n",
       "      <td>2480800</td>\n",
       "      <td>55.9318</td>\n",
       "      <td>1</td>\n",
       "      <td>2</td>\n",
       "      <td>0.000</td>\n",
       "      <td>0.0006</td>\n",
       "      <td>0.0003</td>\n",
       "      <td>0.0004</td>\n",
       "      <td>0.2255</td>\n",
       "      <td>0.2276</td>\n",
       "      <td>0.2254</td>\n",
       "      <td>13</td>\n",
       "    </tr>\n",
       "    <tr>\n",
       "      <th>...</th>\n",
       "      <td>...</td>\n",
       "      <td>...</td>\n",
       "      <td>...</td>\n",
       "      <td>...</td>\n",
       "      <td>...</td>\n",
       "      <td>...</td>\n",
       "      <td>...</td>\n",
       "      <td>...</td>\n",
       "      <td>...</td>\n",
       "      <td>...</td>\n",
       "      <td>...</td>\n",
       "      <td>...</td>\n",
       "      <td>...</td>\n",
       "      <td>...</td>\n",
       "      <td>...</td>\n",
       "      <td>...</td>\n",
       "    </tr>\n",
       "    <tr>\n",
       "      <th>91791</th>\n",
       "      <td>178.730</td>\n",
       "      <td>178.750</td>\n",
       "      <td>178.533</td>\n",
       "      <td>178.585</td>\n",
       "      <td>487972</td>\n",
       "      <td>57.1998</td>\n",
       "      <td>10</td>\n",
       "      <td>2</td>\n",
       "      <td>0.145</td>\n",
       "      <td>-0.0083</td>\n",
       "      <td>0.0927</td>\n",
       "      <td>-0.1010</td>\n",
       "      <td>178.8217</td>\n",
       "      <td>178.6170</td>\n",
       "      <td>178.7920</td>\n",
       "      <td>15</td>\n",
       "    </tr>\n",
       "    <tr>\n",
       "      <th>91792</th>\n",
       "      <td>178.585</td>\n",
       "      <td>178.740</td>\n",
       "      <td>178.540</td>\n",
       "      <td>178.630</td>\n",
       "      <td>515934</td>\n",
       "      <td>52.2100</td>\n",
       "      <td>10</td>\n",
       "      <td>2</td>\n",
       "      <td>-0.045</td>\n",
       "      <td>-0.0007</td>\n",
       "      <td>0.0802</td>\n",
       "      <td>-0.0810</td>\n",
       "      <td>178.8037</td>\n",
       "      <td>178.6730</td>\n",
       "      <td>178.7896</td>\n",
       "      <td>15</td>\n",
       "    </tr>\n",
       "    <tr>\n",
       "      <th>91793</th>\n",
       "      <td>178.630</td>\n",
       "      <td>178.680</td>\n",
       "      <td>178.530</td>\n",
       "      <td>178.610</td>\n",
       "      <td>557809</td>\n",
       "      <td>53.5639</td>\n",
       "      <td>10</td>\n",
       "      <td>2</td>\n",
       "      <td>0.020</td>\n",
       "      <td>0.0088</td>\n",
       "      <td>0.0718</td>\n",
       "      <td>-0.0630</td>\n",
       "      <td>178.7866</td>\n",
       "      <td>178.6870</td>\n",
       "      <td>178.7865</td>\n",
       "      <td>15</td>\n",
       "    </tr>\n",
       "    <tr>\n",
       "      <th>91794</th>\n",
       "      <td>178.610</td>\n",
       "      <td>178.660</td>\n",
       "      <td>178.120</td>\n",
       "      <td>178.230</td>\n",
       "      <td>1652985</td>\n",
       "      <td>52.8473</td>\n",
       "      <td>10</td>\n",
       "      <td>2</td>\n",
       "      <td>0.380</td>\n",
       "      <td>0.0146</td>\n",
       "      <td>0.0621</td>\n",
       "      <td>-0.0475</td>\n",
       "      <td>178.7687</td>\n",
       "      <td>178.6690</td>\n",
       "      <td>178.7656</td>\n",
       "      <td>15</td>\n",
       "    </tr>\n",
       "    <tr>\n",
       "      <th>91795</th>\n",
       "      <td>178.230</td>\n",
       "      <td>178.450</td>\n",
       "      <td>178.230</td>\n",
       "      <td>178.410</td>\n",
       "      <td>1990496</td>\n",
       "      <td>41.4900</td>\n",
       "      <td>10</td>\n",
       "      <td>2</td>\n",
       "      <td>-0.180</td>\n",
       "      <td>-0.0114</td>\n",
       "      <td>0.0289</td>\n",
       "      <td>-0.0403</td>\n",
       "      <td>178.7405</td>\n",
       "      <td>178.5570</td>\n",
       "      <td>178.7442</td>\n",
       "      <td>15</td>\n",
       "    </tr>\n",
       "  </tbody>\n",
       "</table>\n",
       "<p>447484 rows × 16 columns</p>\n",
       "</div>"
      ],
      "text/plain": [
       "          OPEN     HIGH      LOW    CLOSE    VOLUME      RSI  MONTH  DOW  \\\n",
       "43       0.226    0.230    0.226    0.229  17214400  55.5547      1    2   \n",
       "44       0.229    0.230    0.228    0.229   9469600  71.0531      1    2   \n",
       "45       0.228    0.230    0.228    0.228   1696800  63.1484      1    2   \n",
       "46       0.228    0.230    0.225    0.226  14744800  63.1484      1    2   \n",
       "47       0.227    0.229    0.226    0.227   2480800  55.9318      1    2   \n",
       "...        ...      ...      ...      ...       ...      ...    ...  ...   \n",
       "91791  178.730  178.750  178.533  178.585    487972  57.1998     10    2   \n",
       "91792  178.585  178.740  178.540  178.630    515934  52.2100     10    2   \n",
       "91793  178.630  178.680  178.530  178.610    557809  53.5639     10    2   \n",
       "91794  178.610  178.660  178.120  178.230   1652985  52.8473     10    2   \n",
       "91795  178.230  178.450  178.230  178.410   1990496  41.4900     10    2   \n",
       "\n",
       "       CHANGE    MACD  MACD_HIST  MACD_SIGNAL      MA50       MA5      VWAP  \\\n",
       "43     -0.003  0.0002     0.0001       0.0001    0.2252    0.2258    0.2251   \n",
       "44      0.000  0.0004     0.0003       0.0001    0.2253    0.2264    0.2253   \n",
       "45      0.000  0.0006     0.0003       0.0002    0.2253    0.2270    0.2253   \n",
       "46      0.002  0.0006     0.0003       0.0003    0.2254    0.2274    0.2254   \n",
       "47      0.000  0.0006     0.0003       0.0004    0.2255    0.2276    0.2254   \n",
       "...       ...     ...        ...          ...       ...       ...       ...   \n",
       "91791   0.145 -0.0083     0.0927      -0.1010  178.8217  178.6170  178.7920   \n",
       "91792  -0.045 -0.0007     0.0802      -0.0810  178.8037  178.6730  178.7896   \n",
       "91793   0.020  0.0088     0.0718      -0.0630  178.7866  178.6870  178.7865   \n",
       "91794   0.380  0.0146     0.0621      -0.0475  178.7687  178.6690  178.7656   \n",
       "91795  -0.180 -0.0114     0.0289      -0.0403  178.7405  178.5570  178.7442   \n",
       "\n",
       "       Hour  \n",
       "43       13  \n",
       "44       13  \n",
       "45       13  \n",
       "46       13  \n",
       "47       13  \n",
       "...     ...  \n",
       "91791    15  \n",
       "91792    15  \n",
       "91793    15  \n",
       "91794    15  \n",
       "91795    15  \n",
       "\n",
       "[447484 rows x 16 columns]"
      ]
     },
     "execution_count": 52,
     "metadata": {},
     "output_type": "execute_result"
    }
   ],
   "source": [
    "df"
   ]
  },
  {
   "cell_type": "markdown",
   "id": "f02c853b",
   "metadata": {},
   "source": [
    "### Data Visualization"
   ]
  },
  {
   "cell_type": "code",
   "execution_count": 53,
   "id": "751f1966",
   "metadata": {},
   "outputs": [
    {
     "data": {
      "image/png": "[encoded data removed]",
      "text/plain": [
       "<Figure size 640x480 with 1 Axes>"
      ]
     },
     "metadata": {},
     "output_type": "display_data"
    }
   ],
   "source": [
    "plt.hist(df['RSI'])\n",
    "plt.show()"
   ]
  },
  {
   "cell_type": "code",
   "execution_count": 54,
   "id": "fdbba1ae",
   "metadata": {},
   "outputs": [
    {
     "data": {
      "image/png": "[encoded data removed]",
      "text/plain": [
       "<Figure size 640x480 with 1 Axes>"
      ]
     },
     "metadata": {},
     "output_type": "display_data"
    }
   ],
   "source": [
    "plt.hist(df['MACD'])\n",
    "plt.show()"
   ]
  },
  {
   "cell_type": "code",
   "execution_count": 55,
   "id": "7d5f00a0",
   "metadata": {},
   "outputs": [
    {
     "data": {
      "image/png": "[encoded data removed]",
      "text/plain": [
       "<Figure size 640x480 with 1 Axes>"
      ]
     },
     "metadata": {},
     "output_type": "display_data"
    }
   ],
   "source": [
    "plt.boxplot(df['CHANGE'])\n",
    "plt.show()"
   ]
  },
  {
   "cell_type": "markdown",
   "id": "aa5e8db9",
   "metadata": {},
   "source": [
    "### Statistical Analysis on RSI\n",
    "#### RSI measures how overbought and oversold a stock is, RSI  > 70 indicates overbought, RSI < 30 indicates oversold. We expect RSI > 70 to have negative average change while RSI < 30 to have positive average change.\n"
   ]
  },
  {
   "cell_type": "markdown",
   "id": "91f4ebfa",
   "metadata": {},
   "source": [
    "Getting dataframe where RSI > 70 and RSI < 30. Getting the change in price to see if it matches what we hypothesize"
   ]
  },
  {
   "cell_type": "code",
   "execution_count": 8,
   "id": "cb378a94",
   "metadata": {},
   "outputs": [],
   "source": [
    "rsi70 = df[df['RSI'] >= 70]\n",
    "rsi30 = df[df['RSI'] <= 30]\n",
    "rsiother = df[(df['RSI'] >= 70) | (df['RSI'] <= 30)]"
   ]
  },
  {
   "cell_type": "code",
   "execution_count": 9,
   "id": "b4fb5598",
   "metadata": {},
   "outputs": [
    {
     "name": "stdout",
     "output_type": "stream",
     "text": [
      "Average Change in Price for RSI above 70: 0.0020375102375102426\n",
      "Average Change in Price for RSI below 30: -0.0016285636413191876\n"
     ]
    }
   ],
   "source": [
    "print(\"Average Change in Price for RSI above 70: \" + str(rsi70['CHANGE'].mean()))\n",
    "print(\"Average Change in Price for RSI below 30: \" + str(rsi30['CHANGE'].mean()))"
   ]
  },
  {
   "cell_type": "code",
   "execution_count": 10,
   "id": "a68a1eee",
   "metadata": {},
   "outputs": [
    {
     "data": {
      "text/plain": [
       "0.0018388055061790331"
      ]
     },
     "execution_count": 10,
     "metadata": {},
     "output_type": "execute_result"
    }
   ],
   "source": [
    "from scipy.stats import ttest_ind, chisquare, normaltest\n",
    "t_val, p_val = ttest_ind(rsi70['CHANGE'], rsi30['CHANGE'], alternative = 'greater')\n",
    "p_val"
   ]
  },
  {
   "cell_type": "markdown",
   "id": "32ce1316",
   "metadata": {},
   "source": [
    "It appears our understanding is wrong, although RSI greater than 70 indicates overbought, statistical analysis suggest that on average, it is still likely to go up more."
   ]
  },
  {
   "cell_type": "markdown",
   "id": "4157e221",
   "metadata": {},
   "source": [
    "### Statistical Analysis on DOW\n",
    "#### What DOW seems to have the biggest movement?"
   ]
  },
  {
   "cell_type": "markdown",
   "id": "7cda1a86",
   "metadata": {},
   "source": [
    "Filter data for Monday - Friday"
   ]
  },
  {
   "cell_type": "code",
   "execution_count": 11,
   "id": "581e752c",
   "metadata": {},
   "outputs": [],
   "source": [
    "mon = df[df['DOW'] == 1]\n",
    "tues = df[df['DOW'] == 2]\n",
    "wed = df[df['DOW'] == 3]\n",
    "thurs = df[df['DOW'] == 4]\n",
    "fri = df[df['DOW'] == 5]"
   ]
  },
  {
   "cell_type": "markdown",
   "id": "27d125fc",
   "metadata": {},
   "source": [
    "Getting the Average Change for each DOW"
   ]
  },
  {
   "cell_type": "code",
   "execution_count": 12,
   "id": "5c3b9104",
   "metadata": {},
   "outputs": [
    {
     "name": "stdout",
     "output_type": "stream",
     "text": [
      "0.0008139613160710037\n",
      "0.0023299712756234187\n",
      "0.0021918428839296277\n",
      "0.0021102089961116915\n",
      "0.0020079242840241695\n"
     ]
    }
   ],
   "source": [
    "print(mon['CHANGE'].mean())\n",
    "print(tues['CHANGE'].mean())\n",
    "print(wed['CHANGE'].mean())\n",
    "print(thurs['CHANGE'].mean())\n",
    "print(fri['CHANGE'].mean())"
   ]
  },
  {
   "cell_type": "code",
   "execution_count": 68,
   "id": "7ac592b6",
   "metadata": {},
   "outputs": [
    {
     "name": "stderr",
     "output_type": "stream",
     "text": [
      "C:\\Users\\josh9\\anaconda3\\Lib\\site-packages\\seaborn\\_oldcore.py:1498: FutureWarning: is_categorical_dtype is deprecated and will be removed in a future version. Use isinstance(dtype, CategoricalDtype) instead\n",
      "  if pd.api.types.is_categorical_dtype(vector):\n",
      "C:\\Users\\josh9\\anaconda3\\Lib\\site-packages\\seaborn\\_oldcore.py:1498: FutureWarning: is_categorical_dtype is deprecated and will be removed in a future version. Use isinstance(dtype, CategoricalDtype) instead\n",
      "  if pd.api.types.is_categorical_dtype(vector):\n",
      "C:\\Users\\josh9\\anaconda3\\Lib\\site-packages\\seaborn\\_oldcore.py:1765: FutureWarning: unique with argument that is not not a Series, Index, ExtensionArray, or np.ndarray is deprecated and will raise in a future version.\n",
      "  order = pd.unique(vector)\n",
      "C:\\Users\\josh9\\anaconda3\\Lib\\site-packages\\seaborn\\_oldcore.py:1498: FutureWarning: is_categorical_dtype is deprecated and will be removed in a future version. Use isinstance(dtype, CategoricalDtype) instead\n",
      "  if pd.api.types.is_categorical_dtype(vector):\n"
     ]
    },
    {
     "data": {
      "image/png": "[encoded data removed]",
      "text/plain": [
       "<Figure size 1000x800 with 1 Axes>"
      ]
     },
     "metadata": {},
     "output_type": "display_data"
    }
   ],
   "source": [
    "plt.figure(figsize=(10, 8))\n",
    "y = [mon['CHANGE'].mean(), tues['CHANGE'].mean(), wed['CHANGE'].mean(),thurs['CHANGE'].mean(),fri['CHANGE'].mean()]\n",
    "x = ['Monday', 'Tuesday', 'Wednesday', 'Thursday', 'Friday']\n",
    "ax = sns.barplot(x=x, y=y, palette=\"Blues_d\")\n",
    "\n",
    "plt.xlabel('Day')\n",
    "plt.ylabel('Average Change')\n",
    "\n",
    "# Adding the value labels on top of the bars\n",
    "for p in ax.patches:\n",
    "    ax.annotate(f'{p.get_height():.5f}', \n",
    "                (p.get_x() + p.get_width() / 2., p.get_height()), \n",
    "                ha = 'center', va = 'center', \n",
    "                xytext = (0, 9), \n",
    "                textcoords = 'offset points')\n",
    "\n",
    "# Displaying the plot\n",
    "plt.show()"
   ]
  },
  {
   "cell_type": "markdown",
   "id": "0c5a6942",
   "metadata": {},
   "source": [
    "it appears that on Monday's, the change is significantly less than Tues - Fri"
   ]
  },
  {
   "cell_type": "markdown",
   "id": "8ef8ffb2",
   "metadata": {},
   "source": [
    "Testing statistical significant of the finding"
   ]
  },
  {
   "cell_type": "code",
   "execution_count": 56,
   "id": "e23634bb",
   "metadata": {},
   "outputs": [
    {
     "data": {
      "text/plain": [
       "0.0084494595940666"
      ]
     },
     "execution_count": 56,
     "metadata": {},
     "output_type": "execute_result"
    }
   ],
   "source": [
    "t_val, p_val = ttest_ind(mon['CHANGE'], fri['CHANGE'], alternative = 'less')\n",
    "p_val"
   ]
  },
  {
   "cell_type": "markdown",
   "id": "2d81c697",
   "metadata": {},
   "source": [
    "It is also statistically significant"
   ]
  },
  {
   "cell_type": "markdown",
   "id": "58b5dd73",
   "metadata": {},
   "source": [
    "### Statistical Analysis on Month\n",
    "#### What month seems to have biggest movement?"
   ]
  },
  {
   "cell_type": "code",
   "execution_count": 14,
   "id": "ebb01e02",
   "metadata": {},
   "outputs": [],
   "source": [
    "jan = df[df['MONTH'] == 1]\n",
    "feb = df[df['MONTH'] == 2]\n",
    "mar = df[df['MONTH'] == 3]\n",
    "apr = df[df['MONTH'] == 4]\n",
    "may = df[df['MONTH'] == 5]\n",
    "jun = df[df['MONTH'] == 6]\n",
    "jul = df[df['MONTH'] == 7]\n",
    "aug = df[df['MONTH'] == 8]\n",
    "sep = df[df['MONTH'] == 9]\n",
    "otb = df[df['MONTH'] == 10]\n",
    "nov = df[df['MONTH'] == 11]\n",
    "dec = df[df['MONTH'] == 12]"
   ]
  },
  {
   "cell_type": "code",
   "execution_count": 15,
   "id": "e6160151",
   "metadata": {},
   "outputs": [
    {
     "name": "stdout",
     "output_type": "stream",
     "text": [
      "0.0016334867663981478\n",
      "0.0014405149366499884\n",
      "0.0015612309564247402\n",
      "0.0021828597616864983\n",
      "0.002107316432418188\n",
      "0.0018070202889480247\n",
      "0.0013730520513092223\n",
      "0.002001899810018967\n",
      "0.003783950277762471\n",
      "0.0013428615935820254\n",
      "0.0015737747205502857\n",
      "0.002149965388342776\n"
     ]
    }
   ],
   "source": [
    "print(jan['CHANGE'].mean())\n",
    "print(feb['CHANGE'].mean())\n",
    "print(mar['CHANGE'].mean())\n",
    "print(apr['CHANGE'].mean())\n",
    "print(may['CHANGE'].mean())\n",
    "print(jun['CHANGE'].mean())\n",
    "print(jul['CHANGE'].mean())\n",
    "print(aug['CHANGE'].mean())\n",
    "print(sep['CHANGE'].mean())\n",
    "print(otb['CHANGE'].mean())\n",
    "print(nov['CHANGE'].mean())\n",
    "print(dec['CHANGE'].mean())"
   ]
  },
  {
   "cell_type": "code",
   "execution_count": 72,
   "id": "507566af",
   "metadata": {},
   "outputs": [
    {
     "name": "stderr",
     "output_type": "stream",
     "text": [
      "C:\\Users\\josh9\\anaconda3\\Lib\\site-packages\\seaborn\\_oldcore.py:1498: FutureWarning: is_categorical_dtype is deprecated and will be removed in a future version. Use isinstance(dtype, CategoricalDtype) instead\n",
      "  if pd.api.types.is_categorical_dtype(vector):\n",
      "C:\\Users\\josh9\\anaconda3\\Lib\\site-packages\\seaborn\\_oldcore.py:1498: FutureWarning: is_categorical_dtype is deprecated and will be removed in a future version. Use isinstance(dtype, CategoricalDtype) instead\n",
      "  if pd.api.types.is_categorical_dtype(vector):\n",
      "C:\\Users\\josh9\\anaconda3\\Lib\\site-packages\\seaborn\\_oldcore.py:1765: FutureWarning: unique with argument that is not not a Series, Index, ExtensionArray, or np.ndarray is deprecated and will raise in a future version.\n",
      "  order = pd.unique(vector)\n",
      "C:\\Users\\josh9\\anaconda3\\Lib\\site-packages\\seaborn\\_oldcore.py:1498: FutureWarning: is_categorical_dtype is deprecated and will be removed in a future version. Use isinstance(dtype, CategoricalDtype) instead\n",
      "  if pd.api.types.is_categorical_dtype(vector):\n"
     ]
    },
    {
     "data": {
      "image/png": "[encoded data removed]",
      "text/plain": [
       "<Figure size 1000x800 with 1 Axes>"
      ]
     },
     "metadata": {},
     "output_type": "display_data"
    }
   ],
   "source": [
    "plt.figure(figsize=(10, 8))\n",
    "y = [jan['CHANGE'].mean(), feb['CHANGE'].mean(), mar['CHANGE'].mean(),apr['CHANGE'].mean(), may['CHANGE'].mean(), jun['CHANGE'].mean(), jul['CHANGE'].mean(), aug['CHANGE'].mean(), sep['CHANGE'].mean(), otb['CHANGE'].mean(), nov['CHANGE'].mean(), dec['CHANGE'].mean()]\n",
    "months = [\"January\", \"February\", \"March\", \"April\", \"May\", \"June\", \n",
    "          \"July\", \"August\", \"September\", \"October\", \"November\", \"December\"]\n",
    "ax = sns.barplot(x=months, y=y, palette=\"Blues_d\")\n",
    "\n",
    "plt.xlabel('Month')\n",
    "plt.ylabel('Average Change')\n",
    "\n",
    "# Adding the value labels on top of the bars\n",
    "for p in ax.patches:\n",
    "    ax.annotate(f'{p.get_height():.5f}', \n",
    "                (p.get_x() + p.get_width() / 2., p.get_height()), \n",
    "                ha = 'center', va = 'center', \n",
    "                xytext = (0, 9), \n",
    "                textcoords = 'offset points')\n",
    "\n",
    "# Displaying the plot\n",
    "plt.show()"
   ]
  },
  {
   "cell_type": "markdown",
   "id": "addac35e",
   "metadata": {},
   "source": [
    "Month of September have most positive movement, Month of October have least positive movement."
   ]
  },
  {
   "cell_type": "code",
   "execution_count": 16,
   "id": "93d5acf8",
   "metadata": {},
   "outputs": [
    {
     "data": {
      "text/plain": [
       "0.0019764896462134748"
      ]
     },
     "execution_count": 16,
     "metadata": {},
     "output_type": "execute_result"
    }
   ],
   "source": [
    "t_val, p_val = ttest_ind(sep['CHANGE'], otb['CHANGE'], alternative = 'greater')\n",
    "p_val"
   ]
  },
  {
   "cell_type": "markdown",
   "id": "c4bee24e",
   "metadata": {},
   "source": [
    "Result is significant"
   ]
  },
  {
   "cell_type": "markdown",
   "id": "1b8f18e5",
   "metadata": {},
   "source": [
    "### Statistical Analysis on Hour\n",
    "#### What hour seems to have biggest movement?"
   ]
  },
  {
   "cell_type": "code",
   "execution_count": 17,
   "id": "f11c798e",
   "metadata": {},
   "outputs": [
    {
     "data": {
      "text/plain": [
       "array([13, 14, 15, 16,  9, 10, 11, 12])"
      ]
     },
     "execution_count": 17,
     "metadata": {},
     "output_type": "execute_result"
    }
   ],
   "source": [
    "df['Hour'].unique()"
   ]
  },
  {
   "cell_type": "code",
   "execution_count": 18,
   "id": "c55ed39c",
   "metadata": {},
   "outputs": [],
   "source": [
    "d9 = df[df['Hour'] == 9]\n",
    "d10 = df[df['Hour'] == 10]\n",
    "d11 = df[df['Hour'] == 11]\n",
    "d12 = df[df['Hour'] == 12]\n",
    "d13 = df[df['Hour'] == 13]\n",
    "d14 = df[df['Hour'] == 14]\n",
    "d15 = df[df['Hour'] == 15]\n",
    "d16 = df[df['Hour'] == 16]"
   ]
  },
  {
   "cell_type": "code",
   "execution_count": 19,
   "id": "340b1aa8",
   "metadata": {},
   "outputs": [
    {
     "name": "stdout",
     "output_type": "stream",
     "text": [
      "-0.002390456444003745\n",
      "0.002804747217379649\n",
      "0.0013590633259017272\n",
      "0.0022053951033572617\n",
      "0.0024807860772060545\n",
      "0.001852356341976155\n",
      "0.0025809815950920143\n",
      "0.005323575810692382\n"
     ]
    }
   ],
   "source": [
    "print(d9['CHANGE'].mean())\n",
    "print(d10['CHANGE'].mean())\n",
    "print(d11['CHANGE'].mean())\n",
    "print(d12['CHANGE'].mean())\n",
    "print(d13['CHANGE'].mean())\n",
    "print(d14['CHANGE'].mean())\n",
    "print(d15['CHANGE'].mean())\n",
    "print(d16['CHANGE'].mean())"
   ]
  },
  {
   "cell_type": "code",
   "execution_count": 74,
   "id": "5772647c",
   "metadata": {},
   "outputs": [
    {
     "name": "stderr",
     "output_type": "stream",
     "text": [
      "C:\\Users\\josh9\\anaconda3\\Lib\\site-packages\\seaborn\\_oldcore.py:1498: FutureWarning: is_categorical_dtype is deprecated and will be removed in a future version. Use isinstance(dtype, CategoricalDtype) instead\n",
      "  if pd.api.types.is_categorical_dtype(vector):\n",
      "C:\\Users\\josh9\\anaconda3\\Lib\\site-packages\\seaborn\\_oldcore.py:1498: FutureWarning: is_categorical_dtype is deprecated and will be removed in a future version. Use isinstance(dtype, CategoricalDtype) instead\n",
      "  if pd.api.types.is_categorical_dtype(vector):\n",
      "C:\\Users\\josh9\\anaconda3\\Lib\\site-packages\\seaborn\\_oldcore.py:1765: FutureWarning: unique with argument that is not not a Series, Index, ExtensionArray, or np.ndarray is deprecated and will raise in a future version.\n",
      "  order = pd.unique(vector)\n",
      "C:\\Users\\josh9\\anaconda3\\Lib\\site-packages\\seaborn\\_oldcore.py:1498: FutureWarning: is_categorical_dtype is deprecated and will be removed in a future version. Use isinstance(dtype, CategoricalDtype) instead\n",
      "  if pd.api.types.is_categorical_dtype(vector):\n"
     ]
    },
    {
     "data": {
      "image/png": "[encoded data removed]",
      "text/plain": [
       "<Figure size 1000x800 with 1 Axes>"
      ]
     },
     "metadata": {},
     "output_type": "display_data"
    }
   ],
   "source": [
    "plt.figure(figsize=(10, 8))\n",
    "y = [d9['CHANGE'].mean(), d10['CHANGE'].mean(), d11['CHANGE'].mean(), d12['CHANGE'].mean(), d13['CHANGE'].mean(), d14['CHANGE'].mean(), d15['CHANGE'].mean(), d16['CHANGE'].mean()]\n",
    "hours = ['9am', '10am' ,'11am', '12pm', '1pm', '2pm', '3pm', '4pm']\n",
    "ax = sns.barplot(x=hours, y=y, palette=\"Blues_d\")\n",
    "\n",
    "plt.xlabel('Hour')\n",
    "plt.ylabel('Average Change')\n",
    "\n",
    "# Adding the value labels on top of the bars\n",
    "for p in ax.patches:\n",
    "    ax.annotate(f'{p.get_height():.5f}', \n",
    "                (p.get_x() + p.get_width() / 2., p.get_height()), \n",
    "                ha = 'center', va = 'center', \n",
    "                xytext = (0, 9), \n",
    "                textcoords = 'offset points')\n",
    "\n",
    "# Displaying the plot\n",
    "plt.show()"
   ]
  },
  {
   "cell_type": "markdown",
   "id": "a65779f4",
   "metadata": {},
   "source": [
    "Seems like the first hour tends to go down, last hour tends to go up"
   ]
  },
  {
   "cell_type": "code",
   "execution_count": 20,
   "id": "dc13deb0",
   "metadata": {},
   "outputs": [
    {
     "data": {
      "text/plain": [
       "0.0016442065465435342"
      ]
     },
     "execution_count": 20,
     "metadata": {},
     "output_type": "execute_result"
    }
   ],
   "source": [
    "t_val, p_val = ttest_ind(d16['CHANGE'], d9['CHANGE'], alternative = 'greater')\n",
    "p_val"
   ]
  },
  {
   "cell_type": "markdown",
   "id": "1b3be143",
   "metadata": {},
   "source": [
    "### If MA Above stock, does it tend to go down? "
   ]
  },
  {
   "cell_type": "markdown",
   "id": "438d7541",
   "metadata": {},
   "source": [
    "MA50 (50 - Day Moving Average): Indicator that tracks the average of a stock’s closing prices over the last 50 periods. If the MA50 is above the current price of a stock, it often suggests that the stock might be in a downtrend and vice versa.\n",
    "\n",
    "MA50 > Closing price, indicate downtrend, MA50 < closing price, indicate uptrend"
   ]
  },
  {
   "cell_type": "markdown",
   "id": "ce49da28",
   "metadata": {},
   "source": [
    "Filter data for Closing > MA50 and Closing < MA50"
   ]
  },
  {
   "cell_type": "code",
   "execution_count": 35,
   "id": "ced94ef7",
   "metadata": {},
   "outputs": [],
   "source": [
    "above = df[df['CLOSE'] > df['MA50']]\n",
    "below = df[df['CLOSE'] < df['MA50']]"
   ]
  },
  {
   "cell_type": "code",
   "execution_count": 39,
   "id": "15d60d74",
   "metadata": {},
   "outputs": [
    {
     "name": "stdout",
     "output_type": "stream",
     "text": [
      "Average change in price, MA50 > Closing: -0.008464900332601782\n",
      "Average change in price, MA50 < Closing: 0.012110394488276461\n"
     ]
    }
   ],
   "source": [
    "print(\"Average change in price, MA50 > Closing: \" + str(above['CHANGE'].mean()))\n",
    "print(\"Average change in price, MA50 < Closing: \" + str(below['CHANGE'].mean()))"
   ]
  },
  {
   "cell_type": "code",
   "execution_count": 37,
   "id": "9d06485b",
   "metadata": {},
   "outputs": [
    {
     "data": {
      "text/plain": [
       "0.0"
      ]
     },
     "execution_count": 37,
     "metadata": {},
     "output_type": "execute_result"
    }
   ],
   "source": [
    "t_val, p_val = ttest_ind(above['CHANGE'], below['CHANGE'], alternative = 'less')\n",
    "p_val"
   ]
  },
  {
   "cell_type": "markdown",
   "id": "d3d5d791",
   "metadata": {},
   "source": [
    "Interestingly, when MA50 is above the closing price, the average change is negative, when MA50 is below the closing price, the average change is positive. A p-value of 0 suggests that it’s statistically significant.\n"
   ]
  },
  {
   "cell_type": "markdown",
   "id": "106d3b7d",
   "metadata": {},
   "source": [
    "### MACD has MACD value and MACD Signal, When the MACD line crosses above the MACD Signal line, it’s often a bullish (going up) signal and when it cross below, it’s a bearish (going down) signal."
   ]
  },
  {
   "cell_type": "markdown",
   "id": "8fb67b18",
   "metadata": {},
   "source": [
    "Filter data for when MACD > MACD_Signal, and when MACD < MACD_Signal"
   ]
  },
  {
   "cell_type": "code",
   "execution_count": 42,
   "id": "504d7414",
   "metadata": {},
   "outputs": [],
   "source": [
    "above0 = df[df['MACD'] > df['MACD_SIGNAL']]\n",
    "below0 = df[df['MACD'] < df['MACD_SIGNAL']]"
   ]
  },
  {
   "cell_type": "code",
   "execution_count": 49,
   "id": "6fc540ae",
   "metadata": {},
   "outputs": [
    {
     "name": "stdout",
     "output_type": "stream",
     "text": [
      "Average change in price, MACD > MACD_SIGNAL: 0.002265863786190238\n",
      "Average change in price, MACD < MACD_SIGNAL: 0.001695112532596734\n"
     ]
    }
   ],
   "source": [
    "print(\"Average change in price, MACD > MACD_SIGNAL: \" + str(above0['CHANGE'].mean()))\n",
    "print(\"Average change in price, MACD < MACD_SIGNAL: \" + str(below0['CHANGE'].mean()))"
   ]
  },
  {
   "cell_type": "code",
   "execution_count": 48,
   "id": "93dc297b",
   "metadata": {},
   "outputs": [
    {
     "data": {
      "text/plain": [
       "0.03774922162490109"
      ]
     },
     "execution_count": 48,
     "metadata": {},
     "output_type": "execute_result"
    }
   ],
   "source": [
    "t_val, p_val = ttest_ind(above0['CHANGE'], below0['CHANGE'], alternative = 'greater')\n",
    "p_val"
   ]
  },
  {
   "cell_type": "markdown",
   "id": "440e7dbb",
   "metadata": {},
   "source": [
    "When MACD > MACD_Signal, average change is greater"
   ]
  },
  {
   "cell_type": "markdown",
   "id": "08bfd540",
   "metadata": {},
   "source": [
    "# Attempting to build Regressors"
   ]
  },
  {
   "cell_type": "markdown",
   "id": "c15254d2",
   "metadata": {},
   "source": [
    "### Random Forest"
   ]
  },
  {
   "cell_type": "code",
   "execution_count": 76,
   "id": "e8510ffc",
   "metadata": {},
   "outputs": [
    {
     "data": {
      "text/html": [
       "<div>\n",
       "<style scoped>\n",
       "    .dataframe tbody tr th:only-of-type {\n",
       "        vertical-align: middle;\n",
       "    }\n",
       "\n",
       "    .dataframe tbody tr th {\n",
       "        vertical-align: top;\n",
       "    }\n",
       "\n",
       "    .dataframe thead th {\n",
       "        text-align: right;\n",
       "    }\n",
       "</style>\n",
       "<table border=\"1\" class=\"dataframe\">\n",
       "  <thead>\n",
       "    <tr style=\"text-align: right;\">\n",
       "      <th></th>\n",
       "      <th>OPEN</th>\n",
       "      <th>HIGH</th>\n",
       "      <th>LOW</th>\n",
       "      <th>CLOSE</th>\n",
       "      <th>VOLUME</th>\n",
       "      <th>RSI</th>\n",
       "      <th>MONTH</th>\n",
       "      <th>DOW</th>\n",
       "      <th>CHANGE</th>\n",
       "      <th>MACD</th>\n",
       "      <th>MACD_HIST</th>\n",
       "      <th>MACD_SIGNAL</th>\n",
       "      <th>MA50</th>\n",
       "      <th>MA5</th>\n",
       "      <th>VWAP</th>\n",
       "      <th>Hour</th>\n",
       "    </tr>\n",
       "  </thead>\n",
       "  <tbody>\n",
       "    <tr>\n",
       "      <th>43</th>\n",
       "      <td>0.226</td>\n",
       "      <td>0.230</td>\n",
       "      <td>0.226</td>\n",
       "      <td>0.229</td>\n",
       "      <td>17214400</td>\n",
       "      <td>55.5547</td>\n",
       "      <td>1</td>\n",
       "      <td>2</td>\n",
       "      <td>-0.003</td>\n",
       "      <td>0.0002</td>\n",
       "      <td>0.0001</td>\n",
       "      <td>0.0001</td>\n",
       "      <td>0.2252</td>\n",
       "      <td>0.2258</td>\n",
       "      <td>0.2251</td>\n",
       "      <td>13</td>\n",
       "    </tr>\n",
       "    <tr>\n",
       "      <th>44</th>\n",
       "      <td>0.229</td>\n",
       "      <td>0.230</td>\n",
       "      <td>0.228</td>\n",
       "      <td>0.229</td>\n",
       "      <td>9469600</td>\n",
       "      <td>71.0531</td>\n",
       "      <td>1</td>\n",
       "      <td>2</td>\n",
       "      <td>0.000</td>\n",
       "      <td>0.0004</td>\n",
       "      <td>0.0003</td>\n",
       "      <td>0.0001</td>\n",
       "      <td>0.2253</td>\n",
       "      <td>0.2264</td>\n",
       "      <td>0.2253</td>\n",
       "      <td>13</td>\n",
       "    </tr>\n",
       "    <tr>\n",
       "      <th>45</th>\n",
       "      <td>0.228</td>\n",
       "      <td>0.230</td>\n",
       "      <td>0.228</td>\n",
       "      <td>0.228</td>\n",
       "      <td>1696800</td>\n",
       "      <td>63.1484</td>\n",
       "      <td>1</td>\n",
       "      <td>2</td>\n",
       "      <td>0.000</td>\n",
       "      <td>0.0006</td>\n",
       "      <td>0.0003</td>\n",
       "      <td>0.0002</td>\n",
       "      <td>0.2253</td>\n",
       "      <td>0.2270</td>\n",
       "      <td>0.2253</td>\n",
       "      <td>13</td>\n",
       "    </tr>\n",
       "    <tr>\n",
       "      <th>46</th>\n",
       "      <td>0.228</td>\n",
       "      <td>0.230</td>\n",
       "      <td>0.225</td>\n",
       "      <td>0.226</td>\n",
       "      <td>14744800</td>\n",
       "      <td>63.1484</td>\n",
       "      <td>1</td>\n",
       "      <td>2</td>\n",
       "      <td>0.002</td>\n",
       "      <td>0.0006</td>\n",
       "      <td>0.0003</td>\n",
       "      <td>0.0003</td>\n",
       "      <td>0.2254</td>\n",
       "      <td>0.2274</td>\n",
       "      <td>0.2254</td>\n",
       "      <td>13</td>\n",
       "    </tr>\n",
       "    <tr>\n",
       "      <th>47</th>\n",
       "      <td>0.227</td>\n",
       "      <td>0.229</td>\n",
       "      <td>0.226</td>\n",
       "      <td>0.227</td>\n",
       "      <td>2480800</td>\n",
       "      <td>55.9318</td>\n",
       "      <td>1</td>\n",
       "      <td>2</td>\n",
       "      <td>0.000</td>\n",
       "      <td>0.0006</td>\n",
       "      <td>0.0003</td>\n",
       "      <td>0.0004</td>\n",
       "      <td>0.2255</td>\n",
       "      <td>0.2276</td>\n",
       "      <td>0.2254</td>\n",
       "      <td>13</td>\n",
       "    </tr>\n",
       "    <tr>\n",
       "      <th>...</th>\n",
       "      <td>...</td>\n",
       "      <td>...</td>\n",
       "      <td>...</td>\n",
       "      <td>...</td>\n",
       "      <td>...</td>\n",
       "      <td>...</td>\n",
       "      <td>...</td>\n",
       "      <td>...</td>\n",
       "      <td>...</td>\n",
       "      <td>...</td>\n",
       "      <td>...</td>\n",
       "      <td>...</td>\n",
       "      <td>...</td>\n",
       "      <td>...</td>\n",
       "      <td>...</td>\n",
       "      <td>...</td>\n",
       "    </tr>\n",
       "    <tr>\n",
       "      <th>91791</th>\n",
       "      <td>178.730</td>\n",
       "      <td>178.750</td>\n",
       "      <td>178.533</td>\n",
       "      <td>178.585</td>\n",
       "      <td>487972</td>\n",
       "      <td>57.1998</td>\n",
       "      <td>10</td>\n",
       "      <td>2</td>\n",
       "      <td>0.145</td>\n",
       "      <td>-0.0083</td>\n",
       "      <td>0.0927</td>\n",
       "      <td>-0.1010</td>\n",
       "      <td>178.8217</td>\n",
       "      <td>178.6170</td>\n",
       "      <td>178.7920</td>\n",
       "      <td>15</td>\n",
       "    </tr>\n",
       "    <tr>\n",
       "      <th>91792</th>\n",
       "      <td>178.585</td>\n",
       "      <td>178.740</td>\n",
       "      <td>178.540</td>\n",
       "      <td>178.630</td>\n",
       "      <td>515934</td>\n",
       "      <td>52.2100</td>\n",
       "      <td>10</td>\n",
       "      <td>2</td>\n",
       "      <td>-0.045</td>\n",
       "      <td>-0.0007</td>\n",
       "      <td>0.0802</td>\n",
       "      <td>-0.0810</td>\n",
       "      <td>178.8037</td>\n",
       "      <td>178.6730</td>\n",
       "      <td>178.7896</td>\n",
       "      <td>15</td>\n",
       "    </tr>\n",
       "    <tr>\n",
       "      <th>91793</th>\n",
       "      <td>178.630</td>\n",
       "      <td>178.680</td>\n",
       "      <td>178.530</td>\n",
       "      <td>178.610</td>\n",
       "      <td>557809</td>\n",
       "      <td>53.5639</td>\n",
       "      <td>10</td>\n",
       "      <td>2</td>\n",
       "      <td>0.020</td>\n",
       "      <td>0.0088</td>\n",
       "      <td>0.0718</td>\n",
       "      <td>-0.0630</td>\n",
       "      <td>178.7866</td>\n",
       "      <td>178.6870</td>\n",
       "      <td>178.7865</td>\n",
       "      <td>15</td>\n",
       "    </tr>\n",
       "    <tr>\n",
       "      <th>91794</th>\n",
       "      <td>178.610</td>\n",
       "      <td>178.660</td>\n",
       "      <td>178.120</td>\n",
       "      <td>178.230</td>\n",
       "      <td>1652985</td>\n",
       "      <td>52.8473</td>\n",
       "      <td>10</td>\n",
       "      <td>2</td>\n",
       "      <td>0.380</td>\n",
       "      <td>0.0146</td>\n",
       "      <td>0.0621</td>\n",
       "      <td>-0.0475</td>\n",
       "      <td>178.7687</td>\n",
       "      <td>178.6690</td>\n",
       "      <td>178.7656</td>\n",
       "      <td>15</td>\n",
       "    </tr>\n",
       "    <tr>\n",
       "      <th>91795</th>\n",
       "      <td>178.230</td>\n",
       "      <td>178.450</td>\n",
       "      <td>178.230</td>\n",
       "      <td>178.410</td>\n",
       "      <td>1990496</td>\n",
       "      <td>41.4900</td>\n",
       "      <td>10</td>\n",
       "      <td>2</td>\n",
       "      <td>-0.180</td>\n",
       "      <td>-0.0114</td>\n",
       "      <td>0.0289</td>\n",
       "      <td>-0.0403</td>\n",
       "      <td>178.7405</td>\n",
       "      <td>178.5570</td>\n",
       "      <td>178.7442</td>\n",
       "      <td>15</td>\n",
       "    </tr>\n",
       "  </tbody>\n",
       "</table>\n",
       "<p>447484 rows × 16 columns</p>\n",
       "</div>"
      ],
      "text/plain": [
       "          OPEN     HIGH      LOW    CLOSE    VOLUME      RSI  MONTH  DOW  \\\n",
       "43       0.226    0.230    0.226    0.229  17214400  55.5547      1    2   \n",
       "44       0.229    0.230    0.228    0.229   9469600  71.0531      1    2   \n",
       "45       0.228    0.230    0.228    0.228   1696800  63.1484      1    2   \n",
       "46       0.228    0.230    0.225    0.226  14744800  63.1484      1    2   \n",
       "47       0.227    0.229    0.226    0.227   2480800  55.9318      1    2   \n",
       "...        ...      ...      ...      ...       ...      ...    ...  ...   \n",
       "91791  178.730  178.750  178.533  178.585    487972  57.1998     10    2   \n",
       "91792  178.585  178.740  178.540  178.630    515934  52.2100     10    2   \n",
       "91793  178.630  178.680  178.530  178.610    557809  53.5639     10    2   \n",
       "91794  178.610  178.660  178.120  178.230   1652985  52.8473     10    2   \n",
       "91795  178.230  178.450  178.230  178.410   1990496  41.4900     10    2   \n",
       "\n",
       "       CHANGE    MACD  MACD_HIST  MACD_SIGNAL      MA50       MA5      VWAP  \\\n",
       "43     -0.003  0.0002     0.0001       0.0001    0.2252    0.2258    0.2251   \n",
       "44      0.000  0.0004     0.0003       0.0001    0.2253    0.2264    0.2253   \n",
       "45      0.000  0.0006     0.0003       0.0002    0.2253    0.2270    0.2253   \n",
       "46      0.002  0.0006     0.0003       0.0003    0.2254    0.2274    0.2254   \n",
       "47      0.000  0.0006     0.0003       0.0004    0.2255    0.2276    0.2254   \n",
       "...       ...     ...        ...          ...       ...       ...       ...   \n",
       "91791   0.145 -0.0083     0.0927      -0.1010  178.8217  178.6170  178.7920   \n",
       "91792  -0.045 -0.0007     0.0802      -0.0810  178.8037  178.6730  178.7896   \n",
       "91793   0.020  0.0088     0.0718      -0.0630  178.7866  178.6870  178.7865   \n",
       "91794   0.380  0.0146     0.0621      -0.0475  178.7687  178.6690  178.7656   \n",
       "91795  -0.180 -0.0114     0.0289      -0.0403  178.7405  178.5570  178.7442   \n",
       "\n",
       "       Hour  \n",
       "43       13  \n",
       "44       13  \n",
       "45       13  \n",
       "46       13  \n",
       "47       13  \n",
       "...     ...  \n",
       "91791    15  \n",
       "91792    15  \n",
       "91793    15  \n",
       "91794    15  \n",
       "91795    15  \n",
       "\n",
       "[447484 rows x 16 columns]"
      ]
     },
     "execution_count": 76,
     "metadata": {},
     "output_type": "execute_result"
    }
   ],
   "source": [
    "df"
   ]
  },
  {
   "cell_type": "markdown",
   "id": "58e97f85",
   "metadata": {},
   "source": [
    "One hot encode the Month, DOW, Hour column since they are categorical"
   ]
  },
  {
   "cell_type": "code",
   "execution_count": 77,
   "id": "044864cb",
   "metadata": {},
   "outputs": [
    {
     "name": "stderr",
     "output_type": "stream",
     "text": [
      "C:\\Users\\josh9\\anaconda3\\Lib\\site-packages\\sklearn\\preprocessing\\_encoders.py:972: FutureWarning: `sparse` was renamed to `sparse_output` in version 1.2 and will be removed in 1.4. `sparse_output` is ignored unless you leave `sparse` to its default value.\n",
      "  warnings.warn(\n"
     ]
    }
   ],
   "source": [
    "from sklearn.preprocessing import OneHotEncoder\n",
    "columns_to_encode = df[['MONTH', 'DOW', 'Hour']]\n",
    "encoder = OneHotEncoder(sparse = False)\n",
    "encoded_data = encoder.fit_transform(columns_to_encode)\n",
    "encoded_df = pd.DataFrame(encoded_data, columns=encoder.get_feature_names_out(columns_to_encode.columns))"
   ]
  },
  {
   "cell_type": "code",
   "execution_count": 78,
   "id": "d922a5f1",
   "metadata": {},
   "outputs": [],
   "source": [
    "df = df.reset_index(drop = True)\n",
    "df = pd.concat([df, encoded_df], axis=1)\n",
    "y = df['CHANGE']"
   ]
  },
  {
   "cell_type": "markdown",
   "id": "c55d3246",
   "metadata": {},
   "source": [
    "Dropping more unneeded columns"
   ]
  },
  {
   "cell_type": "code",
   "execution_count": null,
   "id": "3b932ccc",
   "metadata": {},
   "outputs": [],
   "source": [
    "df2 = df.drop(columns = ['CHANGE', 'MONTH', 'DOW', 'Hour', 'HIGH', 'OPEN', 'CLOSE'])"
   ]
  },
  {
   "cell_type": "code",
   "execution_count": 79,
   "id": "56ac7250",
   "metadata": {},
   "outputs": [],
   "source": [
    "from sklearn.model_selection import train_test_split\n",
    "X_train, X_test, y_train, y_test = train_test_split(df2, y, test_size=0.3, random_state=42)"
   ]
  },
  {
   "cell_type": "code",
   "execution_count": 80,
   "id": "6c1ec518",
   "metadata": {},
   "outputs": [],
   "source": [
    "from sklearn.ensemble import RandomForestRegressor\n",
    "from sklearn.metrics import accuracy_score, r2_score, mean_squared_error, mean_absolute_error\n",
    "base = RandomForestRegressor(max_depth = 4, n_jobs = -1)"
   ]
  },
  {
   "cell_type": "code",
   "execution_count": 81,
   "id": "677bfb11",
   "metadata": {},
   "outputs": [
    {
     "name": "stdout",
     "output_type": "stream",
     "text": [
      "Training R2 score: 0.010847042498987491\n",
      "Testing R2 score: -0.00044829549008928993\n"
     ]
    }
   ],
   "source": [
    "base.fit(X_train, y_train)\n",
    "y_pred_train = base.predict(X_train)\n",
    "y_pred_test = base.predict(X_test)\n",
    "print('Training R2 score:', r2_score(y_train, y_pred_train))\n",
    "print('Testing R2 score:', r2_score(y_test, y_pred_test))"
   ]
  },
  {
   "cell_type": "code",
   "execution_count": 82,
   "id": "b60c41fb",
   "metadata": {},
   "outputs": [
    {
     "data": {
      "text/plain": [
       "Text(0, 0.5, 'Actual')"
      ]
     },
     "execution_count": 82,
     "metadata": {},
     "output_type": "execute_result"
    },
    {
     "data": {
      "image/png": "[encoded data removed]",
      "text/plain": [
       "<Figure size 640x480 with 1 Axes>"
      ]
     },
     "metadata": {},
     "output_type": "display_data"
    }
   ],
   "source": [
    "plt.scatter(y_pred_train, y_train)\n",
    "plt.title('prediction on training set')\n",
    "plt.xlabel('Predicted')\n",
    "plt.ylabel('Actual')"
   ]
  },
  {
   "cell_type": "code",
   "execution_count": 83,
   "id": "2a477ed8",
   "metadata": {},
   "outputs": [
    {
     "data": {
      "text/plain": [
       "Text(0, 0.5, 'Actual')"
      ]
     },
     "execution_count": 83,
     "metadata": {},
     "output_type": "execute_result"
    },
    {
     "data": {
      "image/png": "[encoded data removed]",
      "text/plain": [
       "<Figure size 640x480 with 1 Axes>"
      ]
     },
     "metadata": {},
     "output_type": "display_data"
    }
   ],
   "source": [
    "plt.scatter(y_pred_test, y_test)\n",
    "plt.title('prediction on testing set')\n",
    "plt.xlabel('Predicted')\n",
    "plt.ylabel('Actual')"
   ]
  },
  {
   "cell_type": "markdown",
   "id": "ff4b9cd5",
   "metadata": {},
   "source": [
    "Predicts a lot of net movement of 0, now we run feature selection and hyperparameter tuning"
   ]
  },
  {
   "cell_type": "code",
   "execution_count": 84,
   "id": "64156189",
   "metadata": {},
   "outputs": [
    {
     "data": {
      "text/plain": [
       "array([7.90354674e-03, 5.09210500e-02, 9.40947002e-02, 1.75789357e-02,\n",
       "       2.08751903e-01, 5.45355866e-01, 3.69227089e-02, 6.76658452e-03,\n",
       "       8.10160020e-03, 5.83641051e-03, 1.16604834e-03, 3.04755542e-03,\n",
       "       0.00000000e+00, 0.00000000e+00, 0.00000000e+00, 0.00000000e+00,\n",
       "       0.00000000e+00, 0.00000000e+00, 0.00000000e+00, 0.00000000e+00,\n",
       "       1.68801765e-03, 0.00000000e+00, 3.12847854e-03, 0.00000000e+00,\n",
       "       7.66440137e-04, 3.72474566e-04, 1.01985131e-03, 2.58295183e-03,\n",
       "       1.48846885e-03, 1.01545054e-03, 0.00000000e+00, 0.00000000e+00,\n",
       "       1.49095641e-03, 0.00000000e+00, 0.00000000e+00])"
      ]
     },
     "execution_count": 84,
     "metadata": {},
     "output_type": "execute_result"
    }
   ],
   "source": [
    "importance = base.feature_importances_\n",
    "importance"
   ]
  },
  {
   "cell_type": "code",
   "execution_count": 86,
   "id": "c3e144b2",
   "metadata": {},
   "outputs": [
    {
     "data": {
      "text/plain": [
       "array([ 5,  4,  2,  1,  6,  3,  8,  0,  7,  9, 22, 11, 27, 20, 32, 28, 10,\n",
       "       26, 29, 24], dtype=int64)"
      ]
     },
     "execution_count": 86,
     "metadata": {},
     "output_type": "execute_result"
    }
   ],
   "source": [
    "important_feature_indices = importance.argsort()[::-1][:20]\n",
    "important_feature_indices"
   ]
  },
  {
   "cell_type": "markdown",
   "id": "bcdea005",
   "metadata": {},
   "source": [
    "### Selected Features"
   ]
  },
  {
   "cell_type": "code",
   "execution_count": 87,
   "id": "4b7ea12c",
   "metadata": {},
   "outputs": [],
   "source": [
    "X_train, X_test, y_train, y_test = train_test_split(df2.iloc[:, important_feature_indices], y, test_size=0.3, random_state=42)"
   ]
  },
  {
   "cell_type": "code",
   "execution_count": 88,
   "id": "e9cd8c11",
   "metadata": {},
   "outputs": [
    {
     "name": "stdout",
     "output_type": "stream",
     "text": [
      "Training R2 score: 0.011061204746216524\n",
      "Testing R2 score: -0.001674403024144011\n"
     ]
    }
   ],
   "source": [
    "base.fit(X_train, y_train)\n",
    "y_pred_train = base.predict(X_train)\n",
    "y_pred_test = base.predict(X_test)\n",
    "print('Training R2 score:', r2_score(y_train, y_pred_train))\n",
    "print('Testing R2 score:', r2_score(y_test, y_pred_test))"
   ]
  },
  {
   "cell_type": "code",
   "execution_count": 89,
   "id": "6b1a3833",
   "metadata": {},
   "outputs": [
    {
     "data": {
      "text/plain": [
       "Text(0, 0.5, 'Actual')"
      ]
     },
     "execution_count": 89,
     "metadata": {},
     "output_type": "execute_result"
    },
    {
     "data": {
      "image/png": "[encoded data removed]",
      "text/plain": [
       "<Figure size 640x480 with 1 Axes>"
      ]
     },
     "metadata": {},
     "output_type": "display_data"
    }
   ],
   "source": [
    "plt.scatter(y_pred_train, y_train)\n",
    "plt.title('prediction on training set')\n",
    "plt.xlabel('Predicted')\n",
    "plt.ylabel('Actual')"
   ]
  },
  {
   "cell_type": "code",
   "execution_count": 90,
   "id": "99f7f343",
   "metadata": {},
   "outputs": [
    {
     "data": {
      "text/plain": [
       "Text(0, 0.5, 'Actual')"
      ]
     },
     "execution_count": 90,
     "metadata": {},
     "output_type": "execute_result"
    },
    {
     "data": {
      "image/png": "[encoded data removed]",
      "text/plain": [
       "<Figure size 640x480 with 1 Axes>"
      ]
     },
     "metadata": {},
     "output_type": "display_data"
    }
   ],
   "source": [
    "plt.scatter(y_pred_test, y_test)\n",
    "plt.title('prediction on testing set')\n",
    "plt.xlabel('Predicted')\n",
    "plt.ylabel('Actual')"
   ]
  },
  {
   "cell_type": "markdown",
   "id": "31460012",
   "metadata": {},
   "source": [
    "Still predicting a lot of 0, maybe a tree is not cut out for this, will try LSTM since LSTM remembers information from the past."
   ]
  },
  {
   "cell_type": "markdown",
   "id": "c1bfc841",
   "metadata": {},
   "source": [
    "### LSTM"
   ]
  },
  {
   "cell_type": "code",
   "execution_count": 96,
   "id": "395e5f49",
   "metadata": {},
   "outputs": [],
   "source": [
    "from tensorflow.keras.models import Sequential\n",
    "from tensorflow.keras.layers import *\n",
    "from tensorflow.keras.callbacks import ModelCheckpoint\n",
    "from tensorflow.keras.losses import MeanSquaredError\n",
    "from tensorflow.keras.metrics import RootMeanSquaredError\n",
    "from tensorflow.keras.optimizers import Adam"
   ]
  },
  {
   "cell_type": "code",
   "execution_count": 101,
   "id": "7ba7ac4b",
   "metadata": {},
   "outputs": [
    {
     "data": {
      "text/html": [
       "<div>\n",
       "<style scoped>\n",
       "    .dataframe tbody tr th:only-of-type {\n",
       "        vertical-align: middle;\n",
       "    }\n",
       "\n",
       "    .dataframe tbody tr th {\n",
       "        vertical-align: top;\n",
       "    }\n",
       "\n",
       "    .dataframe thead th {\n",
       "        text-align: right;\n",
       "    }\n",
       "</style>\n",
       "<table border=\"1\" class=\"dataframe\">\n",
       "  <thead>\n",
       "    <tr style=\"text-align: right;\">\n",
       "      <th></th>\n",
       "      <th>OPEN</th>\n",
       "      <th>CLOSE</th>\n",
       "      <th>VOLUME</th>\n",
       "      <th>RSI</th>\n",
       "      <th>MACD</th>\n",
       "      <th>MACD_HIST</th>\n",
       "      <th>MACD_SIGNAL</th>\n",
       "      <th>MA50</th>\n",
       "      <th>MA5</th>\n",
       "      <th>VWAP</th>\n",
       "      <th>...</th>\n",
       "      <th>DOW_4</th>\n",
       "      <th>DOW_5</th>\n",
       "      <th>Hour_9</th>\n",
       "      <th>Hour_10</th>\n",
       "      <th>Hour_11</th>\n",
       "      <th>Hour_12</th>\n",
       "      <th>Hour_13</th>\n",
       "      <th>Hour_14</th>\n",
       "      <th>Hour_15</th>\n",
       "      <th>Hour_16</th>\n",
       "    </tr>\n",
       "  </thead>\n",
       "  <tbody>\n",
       "    <tr>\n",
       "      <th>0</th>\n",
       "      <td>0.226</td>\n",
       "      <td>0.229</td>\n",
       "      <td>17214400</td>\n",
       "      <td>55.5547</td>\n",
       "      <td>0.0002</td>\n",
       "      <td>0.0001</td>\n",
       "      <td>0.0001</td>\n",
       "      <td>0.2252</td>\n",
       "      <td>0.2258</td>\n",
       "      <td>0.2251</td>\n",
       "      <td>...</td>\n",
       "      <td>0.0</td>\n",
       "      <td>0.0</td>\n",
       "      <td>0.0</td>\n",
       "      <td>0.0</td>\n",
       "      <td>0.0</td>\n",
       "      <td>0.0</td>\n",
       "      <td>1.0</td>\n",
       "      <td>0.0</td>\n",
       "      <td>0.0</td>\n",
       "      <td>0.0</td>\n",
       "    </tr>\n",
       "    <tr>\n",
       "      <th>1</th>\n",
       "      <td>0.229</td>\n",
       "      <td>0.229</td>\n",
       "      <td>9469600</td>\n",
       "      <td>71.0531</td>\n",
       "      <td>0.0004</td>\n",
       "      <td>0.0003</td>\n",
       "      <td>0.0001</td>\n",
       "      <td>0.2253</td>\n",
       "      <td>0.2264</td>\n",
       "      <td>0.2253</td>\n",
       "      <td>...</td>\n",
       "      <td>0.0</td>\n",
       "      <td>0.0</td>\n",
       "      <td>0.0</td>\n",
       "      <td>0.0</td>\n",
       "      <td>0.0</td>\n",
       "      <td>0.0</td>\n",
       "      <td>1.0</td>\n",
       "      <td>0.0</td>\n",
       "      <td>0.0</td>\n",
       "      <td>0.0</td>\n",
       "    </tr>\n",
       "    <tr>\n",
       "      <th>2</th>\n",
       "      <td>0.228</td>\n",
       "      <td>0.228</td>\n",
       "      <td>1696800</td>\n",
       "      <td>63.1484</td>\n",
       "      <td>0.0006</td>\n",
       "      <td>0.0003</td>\n",
       "      <td>0.0002</td>\n",
       "      <td>0.2253</td>\n",
       "      <td>0.2270</td>\n",
       "      <td>0.2253</td>\n",
       "      <td>...</td>\n",
       "      <td>0.0</td>\n",
       "      <td>0.0</td>\n",
       "      <td>0.0</td>\n",
       "      <td>0.0</td>\n",
       "      <td>0.0</td>\n",
       "      <td>0.0</td>\n",
       "      <td>1.0</td>\n",
       "      <td>0.0</td>\n",
       "      <td>0.0</td>\n",
       "      <td>0.0</td>\n",
       "    </tr>\n",
       "    <tr>\n",
       "      <th>3</th>\n",
       "      <td>0.228</td>\n",
       "      <td>0.226</td>\n",
       "      <td>14744800</td>\n",
       "      <td>63.1484</td>\n",
       "      <td>0.0006</td>\n",
       "      <td>0.0003</td>\n",
       "      <td>0.0003</td>\n",
       "      <td>0.2254</td>\n",
       "      <td>0.2274</td>\n",
       "      <td>0.2254</td>\n",
       "      <td>...</td>\n",
       "      <td>0.0</td>\n",
       "      <td>0.0</td>\n",
       "      <td>0.0</td>\n",
       "      <td>0.0</td>\n",
       "      <td>0.0</td>\n",
       "      <td>0.0</td>\n",
       "      <td>1.0</td>\n",
       "      <td>0.0</td>\n",
       "      <td>0.0</td>\n",
       "      <td>0.0</td>\n",
       "    </tr>\n",
       "    <tr>\n",
       "      <th>4</th>\n",
       "      <td>0.227</td>\n",
       "      <td>0.227</td>\n",
       "      <td>2480800</td>\n",
       "      <td>55.9318</td>\n",
       "      <td>0.0006</td>\n",
       "      <td>0.0003</td>\n",
       "      <td>0.0004</td>\n",
       "      <td>0.2255</td>\n",
       "      <td>0.2276</td>\n",
       "      <td>0.2254</td>\n",
       "      <td>...</td>\n",
       "      <td>0.0</td>\n",
       "      <td>0.0</td>\n",
       "      <td>0.0</td>\n",
       "      <td>0.0</td>\n",
       "      <td>0.0</td>\n",
       "      <td>0.0</td>\n",
       "      <td>1.0</td>\n",
       "      <td>0.0</td>\n",
       "      <td>0.0</td>\n",
       "      <td>0.0</td>\n",
       "    </tr>\n",
       "    <tr>\n",
       "      <th>...</th>\n",
       "      <td>...</td>\n",
       "      <td>...</td>\n",
       "      <td>...</td>\n",
       "      <td>...</td>\n",
       "      <td>...</td>\n",
       "      <td>...</td>\n",
       "      <td>...</td>\n",
       "      <td>...</td>\n",
       "      <td>...</td>\n",
       "      <td>...</td>\n",
       "      <td>...</td>\n",
       "      <td>...</td>\n",
       "      <td>...</td>\n",
       "      <td>...</td>\n",
       "      <td>...</td>\n",
       "      <td>...</td>\n",
       "      <td>...</td>\n",
       "      <td>...</td>\n",
       "      <td>...</td>\n",
       "      <td>...</td>\n",
       "      <td>...</td>\n",
       "    </tr>\n",
       "    <tr>\n",
       "      <th>447479</th>\n",
       "      <td>178.730</td>\n",
       "      <td>178.585</td>\n",
       "      <td>487972</td>\n",
       "      <td>57.1998</td>\n",
       "      <td>-0.0083</td>\n",
       "      <td>0.0927</td>\n",
       "      <td>-0.1010</td>\n",
       "      <td>178.8217</td>\n",
       "      <td>178.6170</td>\n",
       "      <td>178.7920</td>\n",
       "      <td>...</td>\n",
       "      <td>0.0</td>\n",
       "      <td>0.0</td>\n",
       "      <td>0.0</td>\n",
       "      <td>0.0</td>\n",
       "      <td>0.0</td>\n",
       "      <td>0.0</td>\n",
       "      <td>0.0</td>\n",
       "      <td>0.0</td>\n",
       "      <td>1.0</td>\n",
       "      <td>0.0</td>\n",
       "    </tr>\n",
       "    <tr>\n",
       "      <th>447480</th>\n",
       "      <td>178.585</td>\n",
       "      <td>178.630</td>\n",
       "      <td>515934</td>\n",
       "      <td>52.2100</td>\n",
       "      <td>-0.0007</td>\n",
       "      <td>0.0802</td>\n",
       "      <td>-0.0810</td>\n",
       "      <td>178.8037</td>\n",
       "      <td>178.6730</td>\n",
       "      <td>178.7896</td>\n",
       "      <td>...</td>\n",
       "      <td>0.0</td>\n",
       "      <td>0.0</td>\n",
       "      <td>0.0</td>\n",
       "      <td>0.0</td>\n",
       "      <td>0.0</td>\n",
       "      <td>0.0</td>\n",
       "      <td>0.0</td>\n",
       "      <td>0.0</td>\n",
       "      <td>1.0</td>\n",
       "      <td>0.0</td>\n",
       "    </tr>\n",
       "    <tr>\n",
       "      <th>447481</th>\n",
       "      <td>178.630</td>\n",
       "      <td>178.610</td>\n",
       "      <td>557809</td>\n",
       "      <td>53.5639</td>\n",
       "      <td>0.0088</td>\n",
       "      <td>0.0718</td>\n",
       "      <td>-0.0630</td>\n",
       "      <td>178.7866</td>\n",
       "      <td>178.6870</td>\n",
       "      <td>178.7865</td>\n",
       "      <td>...</td>\n",
       "      <td>0.0</td>\n",
       "      <td>0.0</td>\n",
       "      <td>0.0</td>\n",
       "      <td>0.0</td>\n",
       "      <td>0.0</td>\n",
       "      <td>0.0</td>\n",
       "      <td>0.0</td>\n",
       "      <td>0.0</td>\n",
       "      <td>1.0</td>\n",
       "      <td>0.0</td>\n",
       "    </tr>\n",
       "    <tr>\n",
       "      <th>447482</th>\n",
       "      <td>178.610</td>\n",
       "      <td>178.230</td>\n",
       "      <td>1652985</td>\n",
       "      <td>52.8473</td>\n",
       "      <td>0.0146</td>\n",
       "      <td>0.0621</td>\n",
       "      <td>-0.0475</td>\n",
       "      <td>178.7687</td>\n",
       "      <td>178.6690</td>\n",
       "      <td>178.7656</td>\n",
       "      <td>...</td>\n",
       "      <td>0.0</td>\n",
       "      <td>0.0</td>\n",
       "      <td>0.0</td>\n",
       "      <td>0.0</td>\n",
       "      <td>0.0</td>\n",
       "      <td>0.0</td>\n",
       "      <td>0.0</td>\n",
       "      <td>0.0</td>\n",
       "      <td>1.0</td>\n",
       "      <td>0.0</td>\n",
       "    </tr>\n",
       "    <tr>\n",
       "      <th>447483</th>\n",
       "      <td>178.230</td>\n",
       "      <td>178.410</td>\n",
       "      <td>1990496</td>\n",
       "      <td>41.4900</td>\n",
       "      <td>-0.0114</td>\n",
       "      <td>0.0289</td>\n",
       "      <td>-0.0403</td>\n",
       "      <td>178.7405</td>\n",
       "      <td>178.5570</td>\n",
       "      <td>178.7442</td>\n",
       "      <td>...</td>\n",
       "      <td>0.0</td>\n",
       "      <td>0.0</td>\n",
       "      <td>0.0</td>\n",
       "      <td>0.0</td>\n",
       "      <td>0.0</td>\n",
       "      <td>0.0</td>\n",
       "      <td>0.0</td>\n",
       "      <td>0.0</td>\n",
       "      <td>1.0</td>\n",
       "      <td>0.0</td>\n",
       "    </tr>\n",
       "  </tbody>\n",
       "</table>\n",
       "<p>447484 rows × 35 columns</p>\n",
       "</div>"
      ],
      "text/plain": [
       "           OPEN    CLOSE    VOLUME      RSI    MACD  MACD_HIST  MACD_SIGNAL  \\\n",
       "0         0.226    0.229  17214400  55.5547  0.0002     0.0001       0.0001   \n",
       "1         0.229    0.229   9469600  71.0531  0.0004     0.0003       0.0001   \n",
       "2         0.228    0.228   1696800  63.1484  0.0006     0.0003       0.0002   \n",
       "3         0.228    0.226  14744800  63.1484  0.0006     0.0003       0.0003   \n",
       "4         0.227    0.227   2480800  55.9318  0.0006     0.0003       0.0004   \n",
       "...         ...      ...       ...      ...     ...        ...          ...   \n",
       "447479  178.730  178.585    487972  57.1998 -0.0083     0.0927      -0.1010   \n",
       "447480  178.585  178.630    515934  52.2100 -0.0007     0.0802      -0.0810   \n",
       "447481  178.630  178.610    557809  53.5639  0.0088     0.0718      -0.0630   \n",
       "447482  178.610  178.230   1652985  52.8473  0.0146     0.0621      -0.0475   \n",
       "447483  178.230  178.410   1990496  41.4900 -0.0114     0.0289      -0.0403   \n",
       "\n",
       "            MA50       MA5      VWAP  ...  DOW_4  DOW_5  Hour_9  Hour_10  \\\n",
       "0         0.2252    0.2258    0.2251  ...    0.0    0.0     0.0      0.0   \n",
       "1         0.2253    0.2264    0.2253  ...    0.0    0.0     0.0      0.0   \n",
       "2         0.2253    0.2270    0.2253  ...    0.0    0.0     0.0      0.0   \n",
       "3         0.2254    0.2274    0.2254  ...    0.0    0.0     0.0      0.0   \n",
       "4         0.2255    0.2276    0.2254  ...    0.0    0.0     0.0      0.0   \n",
       "...          ...       ...       ...  ...    ...    ...     ...      ...   \n",
       "447479  178.8217  178.6170  178.7920  ...    0.0    0.0     0.0      0.0   \n",
       "447480  178.8037  178.6730  178.7896  ...    0.0    0.0     0.0      0.0   \n",
       "447481  178.7866  178.6870  178.7865  ...    0.0    0.0     0.0      0.0   \n",
       "447482  178.7687  178.6690  178.7656  ...    0.0    0.0     0.0      0.0   \n",
       "447483  178.7405  178.5570  178.7442  ...    0.0    0.0     0.0      0.0   \n",
       "\n",
       "        Hour_11  Hour_12  Hour_13  Hour_14  Hour_15  Hour_16  \n",
       "0           0.0      0.0      1.0      0.0      0.0      0.0  \n",
       "1           0.0      0.0      1.0      0.0      0.0      0.0  \n",
       "2           0.0      0.0      1.0      0.0      0.0      0.0  \n",
       "3           0.0      0.0      1.0      0.0      0.0      0.0  \n",
       "4           0.0      0.0      1.0      0.0      0.0      0.0  \n",
       "...         ...      ...      ...      ...      ...      ...  \n",
       "447479      0.0      0.0      0.0      0.0      1.0      0.0  \n",
       "447480      0.0      0.0      0.0      0.0      1.0      0.0  \n",
       "447481      0.0      0.0      0.0      0.0      1.0      0.0  \n",
       "447482      0.0      0.0      0.0      0.0      1.0      0.0  \n",
       "447483      0.0      0.0      0.0      0.0      1.0      0.0  \n",
       "\n",
       "[447484 rows x 35 columns]"
      ]
     },
     "execution_count": 101,
     "metadata": {},
     "output_type": "execute_result"
    }
   ],
   "source": [
    "df2"
   ]
  },
  {
   "cell_type": "code",
   "execution_count": 100,
   "id": "8d6bff29",
   "metadata": {},
   "outputs": [],
   "source": [
    "target1 = pd.DataFrame(y)"
   ]
  },
  {
   "cell_type": "code",
   "execution_count": 105,
   "id": "0309ab31",
   "metadata": {},
   "outputs": [],
   "source": [
    "def create_sequences(data, target1, seq_length):\n",
    "    sequences = []\n",
    "    target = []\n",
    "    for i in range(len(data) - seq_length - 1):\n",
    "        sequences.append(data[i:i+seq_length].values)\n",
    "        target.append(target1.iloc[i+seq_length]['CHANGE'])\n",
    "    return tf.convert_to_tensor(sequences), tf.convert_to_tensor(target)"
   ]
  },
  {
   "cell_type": "code",
   "execution_count": 106,
   "id": "6e1961c0",
   "metadata": {},
   "outputs": [
    {
     "data": {
      "text/plain": [
       "(313238.8, 357987.2)"
      ]
     },
     "execution_count": 106,
     "metadata": {},
     "output_type": "execute_result"
    }
   ],
   "source": [
    "len(df2) * 0.7, len(df2) * 0.8"
   ]
  },
  {
   "cell_type": "code",
   "execution_count": 138,
   "id": "f99a640f",
   "metadata": {},
   "outputs": [],
   "source": [
    "df_all, df_target = create_sequences(df2, target1,40)"
   ]
  },
  {
   "cell_type": "code",
   "execution_count": 139,
   "id": "d40e8700",
   "metadata": {},
   "outputs": [],
   "source": [
    "Xtrain, Ytarget = df_all[0:313239], df_target[0:313239]\n",
    "Xval, Yval = df_all[313239:357987], df_target[313239:357987]\n",
    "Xtest, Ytest = df_all[357987:], df_target[357987:]"
   ]
  },
  {
   "cell_type": "code",
   "execution_count": 140,
   "id": "1bb98e20",
   "metadata": {},
   "outputs": [],
   "source": [
    "params = {\n",
    "\"loss\": \"mean_squared_error\",\n",
    "\"optimizer\": \"adam\",\n",
    "\"dropout\": 0.2,\n",
    "\"lstm_units\": 128,\n",
    "\"epochs\": 30,\n",
    "\"batch_size\": 128,\n",
    "\"es_patience\" : 10\n",
    "}"
   ]
  },
  {
   "cell_type": "code",
   "execution_count": 147,
   "id": "64a9479f",
   "metadata": {},
   "outputs": [],
   "source": [
    "model = Sequential()\n",
    "model.add(LSTM(units=params[\"lstm_units\"], return_sequences=True, input_shape=(40,35)))\n",
    "model.add(Dropout(rate=params[\"dropout\"]))\n",
    "\n",
    "model.add(LSTM(units=params[\"lstm_units\"], return_sequences=True))\n",
    "model.add(Dropout(rate=params[\"dropout\"]))\n",
    "\n",
    "model.add(LSTM(units=params[\"lstm_units\"], return_sequences=True))\n",
    "model.add(Dropout(rate=params[\"dropout\"]))\n",
    "\n",
    "model.add(LSTM(units=params[\"lstm_units\"], return_sequences=True))\n",
    "model.add(Dropout(rate=params[\"dropout\"]))\n",
    "model.add(LSTM(units=params[\"lstm_units\"], return_sequences=True))\n",
    "model.add(Dropout(rate=params[\"dropout\"]))\n",
    "\n",
    "model.add(LSTM(units=params[\"lstm_units\"], return_sequences=True))\n",
    "model.add(Dropout(rate=params[\"dropout\"]))\n",
    "\n",
    "model.add(LSTM(units=params[\"lstm_units\"], return_sequences=True))\n",
    "model.add(Dropout(rate=params[\"dropout\"]))\n",
    "\n",
    "model.add(LSTM(units=params[\"lstm_units\"], return_sequences=False))\n",
    "model.add(Dropout(rate=params[\"dropout\"]))\n",
    "\n",
    "model.add(Dense(units = 50, activation = 'relu'))\n",
    "\n",
    "model.add(Dense(1))\n",
    "\n",
    "model.compile(optimizer=Adam(), loss = 'mean_squared_error')"
   ]
  },
  {
   "cell_type": "code",
   "execution_count": 148,
   "id": "3029c900",
   "metadata": {},
   "outputs": [
    {
     "name": "stdout",
     "output_type": "stream",
     "text": [
      "Epoch 1/10\n",
      " 385/4895 [=>............................] - ETA: 9:49 - loss: 4.0735e-04"
     ]
    },
    {
     "ename": "KeyboardInterrupt",
     "evalue": "",
     "output_type": "error",
     "traceback": [
      "\u001b[1;31m---------------------------------------------------------------------------\u001b[0m",
      "\u001b[1;31mKeyboardInterrupt\u001b[0m                         Traceback (most recent call last)",
      "Cell \u001b[1;32mIn[148], line 1\u001b[0m\n\u001b[1;32m----> 1\u001b[0m model\u001b[38;5;241m.\u001b[39mfit(Xtrain, Ytarget,validation_data \u001b[38;5;241m=\u001b[39m (Xval, Yval), epochs \u001b[38;5;241m=\u001b[39m \u001b[38;5;241m10\u001b[39m, batch_size\u001b[38;5;241m=\u001b[39m\u001b[38;5;241m64\u001b[39m)\n",
      "File \u001b[1;32m~\\anaconda3\\Lib\\site-packages\\keras\\src\\utils\\traceback_utils.py:65\u001b[0m, in \u001b[0;36mfilter_traceback.<locals>.error_handler\u001b[1;34m(*args, **kwargs)\u001b[0m\n\u001b[0;32m     63\u001b[0m filtered_tb \u001b[38;5;241m=\u001b[39m \u001b[38;5;28;01mNone\u001b[39;00m\n\u001b[0;32m     64\u001b[0m \u001b[38;5;28;01mtry\u001b[39;00m:\n\u001b[1;32m---> 65\u001b[0m     \u001b[38;5;28;01mreturn\u001b[39;00m fn(\u001b[38;5;241m*\u001b[39margs, \u001b[38;5;241m*\u001b[39m\u001b[38;5;241m*\u001b[39mkwargs)\n\u001b[0;32m     66\u001b[0m \u001b[38;5;28;01mexcept\u001b[39;00m \u001b[38;5;167;01mException\u001b[39;00m \u001b[38;5;28;01mas\u001b[39;00m e:\n\u001b[0;32m     67\u001b[0m     filtered_tb \u001b[38;5;241m=\u001b[39m _process_traceback_frames(e\u001b[38;5;241m.\u001b[39m__traceback__)\n",
      "File \u001b[1;32m~\\anaconda3\\Lib\\site-packages\\keras\\src\\engine\\training.py:1807\u001b[0m, in \u001b[0;36mModel.fit\u001b[1;34m(self, x, y, batch_size, epochs, verbose, callbacks, validation_split, validation_data, shuffle, class_weight, sample_weight, initial_epoch, steps_per_epoch, validation_steps, validation_batch_size, validation_freq, max_queue_size, workers, use_multiprocessing)\u001b[0m\n\u001b[0;32m   1799\u001b[0m \u001b[38;5;28;01mwith\u001b[39;00m tf\u001b[38;5;241m.\u001b[39mprofiler\u001b[38;5;241m.\u001b[39mexperimental\u001b[38;5;241m.\u001b[39mTrace(\n\u001b[0;32m   1800\u001b[0m     \u001b[38;5;124m\"\u001b[39m\u001b[38;5;124mtrain\u001b[39m\u001b[38;5;124m\"\u001b[39m,\n\u001b[0;32m   1801\u001b[0m     epoch_num\u001b[38;5;241m=\u001b[39mepoch,\n\u001b[1;32m   (...)\u001b[0m\n\u001b[0;32m   1804\u001b[0m     _r\u001b[38;5;241m=\u001b[39m\u001b[38;5;241m1\u001b[39m,\n\u001b[0;32m   1805\u001b[0m ):\n\u001b[0;32m   1806\u001b[0m     callbacks\u001b[38;5;241m.\u001b[39mon_train_batch_begin(step)\n\u001b[1;32m-> 1807\u001b[0m     tmp_logs \u001b[38;5;241m=\u001b[39m \u001b[38;5;28mself\u001b[39m\u001b[38;5;241m.\u001b[39mtrain_function(iterator)\n\u001b[0;32m   1808\u001b[0m     \u001b[38;5;28;01mif\u001b[39;00m data_handler\u001b[38;5;241m.\u001b[39mshould_sync:\n\u001b[0;32m   1809\u001b[0m         context\u001b[38;5;241m.\u001b[39masync_wait()\n",
      "File \u001b[1;32m~\\anaconda3\\Lib\\site-packages\\tensorflow\\python\\util\\traceback_utils.py:150\u001b[0m, in \u001b[0;36mfilter_traceback.<locals>.error_handler\u001b[1;34m(*args, **kwargs)\u001b[0m\n\u001b[0;32m    148\u001b[0m filtered_tb \u001b[38;5;241m=\u001b[39m \u001b[38;5;28;01mNone\u001b[39;00m\n\u001b[0;32m    149\u001b[0m \u001b[38;5;28;01mtry\u001b[39;00m:\n\u001b[1;32m--> 150\u001b[0m   \u001b[38;5;28;01mreturn\u001b[39;00m fn(\u001b[38;5;241m*\u001b[39margs, \u001b[38;5;241m*\u001b[39m\u001b[38;5;241m*\u001b[39mkwargs)\n\u001b[0;32m    151\u001b[0m \u001b[38;5;28;01mexcept\u001b[39;00m \u001b[38;5;167;01mException\u001b[39;00m \u001b[38;5;28;01mas\u001b[39;00m e:\n\u001b[0;32m    152\u001b[0m   filtered_tb \u001b[38;5;241m=\u001b[39m _process_traceback_frames(e\u001b[38;5;241m.\u001b[39m__traceback__)\n",
      "File \u001b[1;32m~\\anaconda3\\Lib\\site-packages\\tensorflow\\python\\eager\\polymorphic_function\\polymorphic_function.py:832\u001b[0m, in \u001b[0;36mFunction.__call__\u001b[1;34m(self, *args, **kwds)\u001b[0m\n\u001b[0;32m    829\u001b[0m compiler \u001b[38;5;241m=\u001b[39m \u001b[38;5;124m\"\u001b[39m\u001b[38;5;124mxla\u001b[39m\u001b[38;5;124m\"\u001b[39m \u001b[38;5;28;01mif\u001b[39;00m \u001b[38;5;28mself\u001b[39m\u001b[38;5;241m.\u001b[39m_jit_compile \u001b[38;5;28;01melse\u001b[39;00m \u001b[38;5;124m\"\u001b[39m\u001b[38;5;124mnonXla\u001b[39m\u001b[38;5;124m\"\u001b[39m\n\u001b[0;32m    831\u001b[0m \u001b[38;5;28;01mwith\u001b[39;00m OptionalXlaContext(\u001b[38;5;28mself\u001b[39m\u001b[38;5;241m.\u001b[39m_jit_compile):\n\u001b[1;32m--> 832\u001b[0m   result \u001b[38;5;241m=\u001b[39m \u001b[38;5;28mself\u001b[39m\u001b[38;5;241m.\u001b[39m_call(\u001b[38;5;241m*\u001b[39margs, \u001b[38;5;241m*\u001b[39m\u001b[38;5;241m*\u001b[39mkwds)\n\u001b[0;32m    834\u001b[0m new_tracing_count \u001b[38;5;241m=\u001b[39m \u001b[38;5;28mself\u001b[39m\u001b[38;5;241m.\u001b[39mexperimental_get_tracing_count()\n\u001b[0;32m    835\u001b[0m without_tracing \u001b[38;5;241m=\u001b[39m (tracing_count \u001b[38;5;241m==\u001b[39m new_tracing_count)\n",
      "File \u001b[1;32m~\\anaconda3\\Lib\\site-packages\\tensorflow\\python\\eager\\polymorphic_function\\polymorphic_function.py:868\u001b[0m, in \u001b[0;36mFunction._call\u001b[1;34m(self, *args, **kwds)\u001b[0m\n\u001b[0;32m    865\u001b[0m   \u001b[38;5;28mself\u001b[39m\u001b[38;5;241m.\u001b[39m_lock\u001b[38;5;241m.\u001b[39mrelease()\n\u001b[0;32m    866\u001b[0m   \u001b[38;5;66;03m# In this case we have created variables on the first call, so we run the\u001b[39;00m\n\u001b[0;32m    867\u001b[0m   \u001b[38;5;66;03m# defunned version which is guaranteed to never create variables.\u001b[39;00m\n\u001b[1;32m--> 868\u001b[0m   \u001b[38;5;28;01mreturn\u001b[39;00m tracing_compilation\u001b[38;5;241m.\u001b[39mcall_function(\n\u001b[0;32m    869\u001b[0m       args, kwds, \u001b[38;5;28mself\u001b[39m\u001b[38;5;241m.\u001b[39m_no_variable_creation_config\n\u001b[0;32m    870\u001b[0m   )\n\u001b[0;32m    871\u001b[0m \u001b[38;5;28;01melif\u001b[39;00m \u001b[38;5;28mself\u001b[39m\u001b[38;5;241m.\u001b[39m_variable_creation_config \u001b[38;5;129;01mis\u001b[39;00m \u001b[38;5;129;01mnot\u001b[39;00m \u001b[38;5;28;01mNone\u001b[39;00m:\n\u001b[0;32m    872\u001b[0m   \u001b[38;5;66;03m# Release the lock early so that multiple threads can perform the call\u001b[39;00m\n\u001b[0;32m    873\u001b[0m   \u001b[38;5;66;03m# in parallel.\u001b[39;00m\n\u001b[0;32m    874\u001b[0m   \u001b[38;5;28mself\u001b[39m\u001b[38;5;241m.\u001b[39m_lock\u001b[38;5;241m.\u001b[39mrelease()\n",
      "File \u001b[1;32m~\\anaconda3\\Lib\\site-packages\\tensorflow\\python\\eager\\polymorphic_function\\tracing_compilation.py:139\u001b[0m, in \u001b[0;36mcall_function\u001b[1;34m(args, kwargs, tracing_options)\u001b[0m\n\u001b[0;32m    137\u001b[0m bound_args \u001b[38;5;241m=\u001b[39m function\u001b[38;5;241m.\u001b[39mfunction_type\u001b[38;5;241m.\u001b[39mbind(\u001b[38;5;241m*\u001b[39margs, \u001b[38;5;241m*\u001b[39m\u001b[38;5;241m*\u001b[39mkwargs)\n\u001b[0;32m    138\u001b[0m flat_inputs \u001b[38;5;241m=\u001b[39m function\u001b[38;5;241m.\u001b[39mfunction_type\u001b[38;5;241m.\u001b[39munpack_inputs(bound_args)\n\u001b[1;32m--> 139\u001b[0m \u001b[38;5;28;01mreturn\u001b[39;00m function\u001b[38;5;241m.\u001b[39m_call_flat(  \u001b[38;5;66;03m# pylint: disable=protected-access\u001b[39;00m\n\u001b[0;32m    140\u001b[0m     flat_inputs, captured_inputs\u001b[38;5;241m=\u001b[39mfunction\u001b[38;5;241m.\u001b[39mcaptured_inputs\n\u001b[0;32m    141\u001b[0m )\n",
      "File \u001b[1;32m~\\anaconda3\\Lib\\site-packages\\tensorflow\\python\\eager\\polymorphic_function\\concrete_function.py:1323\u001b[0m, in \u001b[0;36mConcreteFunction._call_flat\u001b[1;34m(self, tensor_inputs, captured_inputs)\u001b[0m\n\u001b[0;32m   1319\u001b[0m possible_gradient_type \u001b[38;5;241m=\u001b[39m gradients_util\u001b[38;5;241m.\u001b[39mPossibleTapeGradientTypes(args)\n\u001b[0;32m   1320\u001b[0m \u001b[38;5;28;01mif\u001b[39;00m (possible_gradient_type \u001b[38;5;241m==\u001b[39m gradients_util\u001b[38;5;241m.\u001b[39mPOSSIBLE_GRADIENT_TYPES_NONE\n\u001b[0;32m   1321\u001b[0m     \u001b[38;5;129;01mand\u001b[39;00m executing_eagerly):\n\u001b[0;32m   1322\u001b[0m   \u001b[38;5;66;03m# No tape is watching; skip to running the function.\u001b[39;00m\n\u001b[1;32m-> 1323\u001b[0m   \u001b[38;5;28;01mreturn\u001b[39;00m \u001b[38;5;28mself\u001b[39m\u001b[38;5;241m.\u001b[39m_inference_function\u001b[38;5;241m.\u001b[39mcall_preflattened(args)\n\u001b[0;32m   1324\u001b[0m forward_backward \u001b[38;5;241m=\u001b[39m \u001b[38;5;28mself\u001b[39m\u001b[38;5;241m.\u001b[39m_select_forward_and_backward_functions(\n\u001b[0;32m   1325\u001b[0m     args,\n\u001b[0;32m   1326\u001b[0m     possible_gradient_type,\n\u001b[0;32m   1327\u001b[0m     executing_eagerly)\n\u001b[0;32m   1328\u001b[0m forward_function, args_with_tangents \u001b[38;5;241m=\u001b[39m forward_backward\u001b[38;5;241m.\u001b[39mforward()\n",
      "File \u001b[1;32m~\\anaconda3\\Lib\\site-packages\\tensorflow\\python\\eager\\polymorphic_function\\atomic_function.py:216\u001b[0m, in \u001b[0;36mAtomicFunction.call_preflattened\u001b[1;34m(self, args)\u001b[0m\n\u001b[0;32m    214\u001b[0m \u001b[38;5;28;01mdef\u001b[39;00m \u001b[38;5;21mcall_preflattened\u001b[39m(\u001b[38;5;28mself\u001b[39m, args: Sequence[core\u001b[38;5;241m.\u001b[39mTensor]) \u001b[38;5;241m-\u001b[39m\u001b[38;5;241m>\u001b[39m Any:\n\u001b[0;32m    215\u001b[0m \u001b[38;5;250m  \u001b[39m\u001b[38;5;124;03m\"\"\"Calls with flattened tensor inputs and returns the structured output.\"\"\"\u001b[39;00m\n\u001b[1;32m--> 216\u001b[0m   flat_outputs \u001b[38;5;241m=\u001b[39m \u001b[38;5;28mself\u001b[39m\u001b[38;5;241m.\u001b[39mcall_flat(\u001b[38;5;241m*\u001b[39margs)\n\u001b[0;32m    217\u001b[0m   \u001b[38;5;28;01mreturn\u001b[39;00m \u001b[38;5;28mself\u001b[39m\u001b[38;5;241m.\u001b[39mfunction_type\u001b[38;5;241m.\u001b[39mpack_output(flat_outputs)\n",
      "File \u001b[1;32m~\\anaconda3\\Lib\\site-packages\\tensorflow\\python\\eager\\polymorphic_function\\atomic_function.py:251\u001b[0m, in \u001b[0;36mAtomicFunction.call_flat\u001b[1;34m(self, *args)\u001b[0m\n\u001b[0;32m    249\u001b[0m \u001b[38;5;28;01mwith\u001b[39;00m record\u001b[38;5;241m.\u001b[39mstop_recording():\n\u001b[0;32m    250\u001b[0m   \u001b[38;5;28;01mif\u001b[39;00m \u001b[38;5;28mself\u001b[39m\u001b[38;5;241m.\u001b[39m_bound_context\u001b[38;5;241m.\u001b[39mexecuting_eagerly():\n\u001b[1;32m--> 251\u001b[0m     outputs \u001b[38;5;241m=\u001b[39m \u001b[38;5;28mself\u001b[39m\u001b[38;5;241m.\u001b[39m_bound_context\u001b[38;5;241m.\u001b[39mcall_function(\n\u001b[0;32m    252\u001b[0m         \u001b[38;5;28mself\u001b[39m\u001b[38;5;241m.\u001b[39mname,\n\u001b[0;32m    253\u001b[0m         \u001b[38;5;28mlist\u001b[39m(args),\n\u001b[0;32m    254\u001b[0m         \u001b[38;5;28mlen\u001b[39m(\u001b[38;5;28mself\u001b[39m\u001b[38;5;241m.\u001b[39mfunction_type\u001b[38;5;241m.\u001b[39mflat_outputs),\n\u001b[0;32m    255\u001b[0m     )\n\u001b[0;32m    256\u001b[0m   \u001b[38;5;28;01melse\u001b[39;00m:\n\u001b[0;32m    257\u001b[0m     outputs \u001b[38;5;241m=\u001b[39m make_call_op_in_graph(\n\u001b[0;32m    258\u001b[0m         \u001b[38;5;28mself\u001b[39m,\n\u001b[0;32m    259\u001b[0m         \u001b[38;5;28mlist\u001b[39m(args),\n\u001b[0;32m    260\u001b[0m         \u001b[38;5;28mself\u001b[39m\u001b[38;5;241m.\u001b[39m_bound_context\u001b[38;5;241m.\u001b[39mfunction_call_options\u001b[38;5;241m.\u001b[39mas_attrs(),\n\u001b[0;32m    261\u001b[0m     )\n",
      "File \u001b[1;32m~\\anaconda3\\Lib\\site-packages\\tensorflow\\python\\eager\\context.py:1486\u001b[0m, in \u001b[0;36mContext.call_function\u001b[1;34m(self, name, tensor_inputs, num_outputs)\u001b[0m\n\u001b[0;32m   1484\u001b[0m cancellation_context \u001b[38;5;241m=\u001b[39m cancellation\u001b[38;5;241m.\u001b[39mcontext()\n\u001b[0;32m   1485\u001b[0m \u001b[38;5;28;01mif\u001b[39;00m cancellation_context \u001b[38;5;129;01mis\u001b[39;00m \u001b[38;5;28;01mNone\u001b[39;00m:\n\u001b[1;32m-> 1486\u001b[0m   outputs \u001b[38;5;241m=\u001b[39m execute\u001b[38;5;241m.\u001b[39mexecute(\n\u001b[0;32m   1487\u001b[0m       name\u001b[38;5;241m.\u001b[39mdecode(\u001b[38;5;124m\"\u001b[39m\u001b[38;5;124mutf-8\u001b[39m\u001b[38;5;124m\"\u001b[39m),\n\u001b[0;32m   1488\u001b[0m       num_outputs\u001b[38;5;241m=\u001b[39mnum_outputs,\n\u001b[0;32m   1489\u001b[0m       inputs\u001b[38;5;241m=\u001b[39mtensor_inputs,\n\u001b[0;32m   1490\u001b[0m       attrs\u001b[38;5;241m=\u001b[39mattrs,\n\u001b[0;32m   1491\u001b[0m       ctx\u001b[38;5;241m=\u001b[39m\u001b[38;5;28mself\u001b[39m,\n\u001b[0;32m   1492\u001b[0m   )\n\u001b[0;32m   1493\u001b[0m \u001b[38;5;28;01melse\u001b[39;00m:\n\u001b[0;32m   1494\u001b[0m   outputs \u001b[38;5;241m=\u001b[39m execute\u001b[38;5;241m.\u001b[39mexecute_with_cancellation(\n\u001b[0;32m   1495\u001b[0m       name\u001b[38;5;241m.\u001b[39mdecode(\u001b[38;5;124m\"\u001b[39m\u001b[38;5;124mutf-8\u001b[39m\u001b[38;5;124m\"\u001b[39m),\n\u001b[0;32m   1496\u001b[0m       num_outputs\u001b[38;5;241m=\u001b[39mnum_outputs,\n\u001b[1;32m   (...)\u001b[0m\n\u001b[0;32m   1500\u001b[0m       cancellation_manager\u001b[38;5;241m=\u001b[39mcancellation_context,\n\u001b[0;32m   1501\u001b[0m   )\n",
      "File \u001b[1;32m~\\anaconda3\\Lib\\site-packages\\tensorflow\\python\\eager\\execute.py:53\u001b[0m, in \u001b[0;36mquick_execute\u001b[1;34m(op_name, num_outputs, inputs, attrs, ctx, name)\u001b[0m\n\u001b[0;32m     51\u001b[0m \u001b[38;5;28;01mtry\u001b[39;00m:\n\u001b[0;32m     52\u001b[0m   ctx\u001b[38;5;241m.\u001b[39mensure_initialized()\n\u001b[1;32m---> 53\u001b[0m   tensors \u001b[38;5;241m=\u001b[39m pywrap_tfe\u001b[38;5;241m.\u001b[39mTFE_Py_Execute(ctx\u001b[38;5;241m.\u001b[39m_handle, device_name, op_name,\n\u001b[0;32m     54\u001b[0m                                       inputs, attrs, num_outputs)\n\u001b[0;32m     55\u001b[0m \u001b[38;5;28;01mexcept\u001b[39;00m core\u001b[38;5;241m.\u001b[39m_NotOkStatusException \u001b[38;5;28;01mas\u001b[39;00m e:\n\u001b[0;32m     56\u001b[0m   \u001b[38;5;28;01mif\u001b[39;00m name \u001b[38;5;129;01mis\u001b[39;00m \u001b[38;5;129;01mnot\u001b[39;00m \u001b[38;5;28;01mNone\u001b[39;00m:\n",
      "\u001b[1;31mKeyboardInterrupt\u001b[0m: "
     ]
    }
   ],
   "source": [
    "model.fit(Xtrain, Ytarget,validation_data = (Xval, Yval), epochs = 10, batch_size=64)"
   ]
  },
  {
   "cell_type": "code",
   "execution_count": 143,
   "id": "f48f23db",
   "metadata": {},
   "outputs": [
    {
     "name": "stdout",
     "output_type": "stream",
     "text": [
      "9789/9789 [==============================] - 136s 14ms/step\n"
     ]
    }
   ],
   "source": [
    "predictions = model.predict(Xtrain).flatten()"
   ]
  },
  {
   "cell_type": "code",
   "execution_count": 146,
   "id": "7d95ce43",
   "metadata": {},
   "outputs": [
    {
     "data": {
      "text/plain": [
       "<matplotlib.collections.PathCollection at 0x1d847002c90>"
      ]
     },
     "execution_count": 146,
     "metadata": {},
     "output_type": "execute_result"
    },
    {
     "data": {
      "image/png": "[encoded data removed]",
      "text/plain": [
       "<Figure size 640x480 with 1 Axes>"
      ]
     },
     "metadata": {},
     "output_type": "display_data"
    }
   ],
   "source": [
    "plt.scatter(np.array(predictions), np.array(Ytarget))"
   ]
  },
  {
   "cell_type": "code",
   "execution_count": null,
   "id": "62fb974a",
   "metadata": {},
   "outputs": [],
   "source": []
  }
 ],
 "metadata": {
  "kernelspec": {
   "display_name": "Python 3 (ipykernel)",
   "language": "python",
   "name": "python3"
  },
  "language_info": {
   "codemirror_mode": {
    "name": "ipython",
    "version": 3
   },
   "file_extension": ".py",
   "mimetype": "text/x-python",
   "name": "python",
   "nbconvert_exporter": "python",
   "pygments_lexer": "ipython3",
   "version": "3.11.5"
  }
 },
 "nbformat": 4,
 "nbformat_minor": 5
}
